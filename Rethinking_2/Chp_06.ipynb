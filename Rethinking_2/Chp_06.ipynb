{
 "cells": [
  {
   "cell_type": "code",
   "execution_count": 52,
   "metadata": {},
   "outputs": [],
   "source": [
    "import os\n",
    "import arviz as az\n",
    "import matplotlib.pyplot as plt\n",
    "import numpy as np\n",
    "import pandas as pd\n",
    "import pymc3 as pm\n",
    "import scipy.stats as stats\n",
    "import seaborn as sns"
   ]
  },
  {
   "cell_type": "code",
   "execution_count": 29,
   "metadata": {},
   "outputs": [],
   "source": [
    "def standardize(series):\n",
    "    \"\"\"Standardize a pandas series\"\"\"\n",
    "    std_series = (series - series.mean()) / series.std()\n",
    "    return std_series"
   ]
  },
  {
   "cell_type": "markdown",
   "metadata": {},
   "source": [
    "#### 6.1"
   ]
  },
  {
   "cell_type": "code",
   "execution_count": 3,
   "metadata": {},
   "outputs": [
    {
     "data": {
      "text/plain": [
       "array([[ 1.        , -0.64839295],\n",
       "       [-0.64839295,  1.        ]])"
      ]
     },
     "execution_count": 3,
     "metadata": {},
     "output_type": "execute_result"
    }
   ],
   "source": [
    "# Note even though the seed is the same as in the book the randomness is not\n",
    "np.random.seed(1914)\n",
    "N = 200 # Num grant proposals\n",
    "p = .1 # Proportion to select\n",
    "# Uncorrelated newsworthiness and trustworthiness\n",
    "nw = stats.norm().rvs(N)\n",
    "tw = stats.norm().rvs(N)\n",
    "\n",
    "# Select top combined scores\n",
    "s = tw + nw\n",
    "q = np.quantile(s, 1-p)\n",
    "selected = np.where(s > q)\n",
    "np.corrcoef(tw[selected], nw[selected])"
   ]
  },
  {
   "cell_type": "markdown",
   "metadata": {},
   "source": [
    "#### 6.2"
   ]
  },
  {
   "cell_type": "code",
   "execution_count": 28,
   "metadata": {},
   "outputs": [
    {
     "data": {
      "text/html": [
       "<div>\n",
       "<style scoped>\n",
       "    .dataframe tbody tr th:only-of-type {\n",
       "        vertical-align: middle;\n",
       "    }\n",
       "\n",
       "    .dataframe tbody tr th {\n",
       "        vertical-align: top;\n",
       "    }\n",
       "\n",
       "    .dataframe thead th {\n",
       "        text-align: right;\n",
       "    }\n",
       "</style>\n",
       "<table border=\"1\" class=\"dataframe\">\n",
       "  <thead>\n",
       "    <tr style=\"text-align: right;\">\n",
       "      <th></th>\n",
       "      <th>height</th>\n",
       "      <th>left_leg</th>\n",
       "      <th>leg_right</th>\n",
       "    </tr>\n",
       "  </thead>\n",
       "  <tbody>\n",
       "    <tr>\n",
       "      <th>0</th>\n",
       "      <td>8.463728</td>\n",
       "      <td>6.870923</td>\n",
       "      <td>6.854695</td>\n",
       "    </tr>\n",
       "    <tr>\n",
       "      <th>1</th>\n",
       "      <td>9.854070</td>\n",
       "      <td>7.910084</td>\n",
       "      <td>7.821358</td>\n",
       "    </tr>\n",
       "    <tr>\n",
       "      <th>2</th>\n",
       "      <td>8.668694</td>\n",
       "      <td>7.160617</td>\n",
       "      <td>7.224482</td>\n",
       "    </tr>\n",
       "    <tr>\n",
       "      <th>3</th>\n",
       "      <td>7.523768</td>\n",
       "      <td>3.464097</td>\n",
       "      <td>3.463629</td>\n",
       "    </tr>\n",
       "    <tr>\n",
       "      <th>4</th>\n",
       "      <td>9.381352</td>\n",
       "      <td>5.337605</td>\n",
       "      <td>5.292569</td>\n",
       "    </tr>\n",
       "  </tbody>\n",
       "</table>\n",
       "</div>"
      ],
      "text/plain": [
       "     height  left_leg  leg_right\n",
       "0  8.463728  6.870923   6.854695\n",
       "1  9.854070  7.910084   7.821358\n",
       "2  8.668694  7.160617   7.224482\n",
       "3  7.523768  3.464097   3.463629\n",
       "4  9.381352  5.337605   5.292569"
      ]
     },
     "execution_count": 28,
     "metadata": {},
     "output_type": "execute_result"
    }
   ],
   "source": [
    "# Note even though the seed is the same as in the book the randomness is not\n",
    "N = 100 # number of individuals\n",
    "np.random.seed(909)\n",
    "\n",
    "height = stats.norm(10, 2).rvs(N) # sim total height of each\n",
    "leg_prop = stats.uniform(.4, .5).rvs(N) # leg as a proportion of height\n",
    "\n",
    "leg_left = leg_prop*height + stats.norm(0,.02).rvs(N) # sim left leg as proportion + error\n",
    "leg_right = leg_prop*height + stats.norm(0,.02).rvs(N) # sim right leg as proportion + error\n",
    "\n",
    "d = pd.DataFrame({\"height\": height, \"left_leg\":leg_left, \"leg_right\":leg_right})\n",
    "d.head()"
   ]
  },
  {
   "cell_type": "markdown",
   "metadata": {},
   "source": [
    "#### 6.3"
   ]
  },
  {
   "cell_type": "code",
   "execution_count": 19,
   "metadata": {},
   "outputs": [
    {
     "name": "stderr",
     "output_type": "stream",
     "text": [
      "Auto-assigning NUTS sampler...\n",
      "Initializing NUTS using jitter+adapt_diag...\n",
      "Multiprocess sampling (4 chains in 4 jobs)\n",
      "NUTS: [a, bl, br, sigma]\n",
      "Sampling 4 chains, 0 divergences: 100%|██████████| 4000/4000 [00:46<00:00, 85.86draws/s] \n",
      "The acceptance probability does not match the target. It is 0.8939346821644198, but should be close to 0.8. Try to increase the number of tuning steps.\n",
      "The acceptance probability does not match the target. It is 0.8829539701496346, but should be close to 0.8. Try to increase the number of tuning steps.\n"
     ]
    },
    {
     "data": {
      "text/html": [
       "<div>\n",
       "<style scoped>\n",
       "    .dataframe tbody tr th:only-of-type {\n",
       "        vertical-align: middle;\n",
       "    }\n",
       "\n",
       "    .dataframe tbody tr th {\n",
       "        vertical-align: top;\n",
       "    }\n",
       "\n",
       "    .dataframe thead th {\n",
       "        text-align: right;\n",
       "    }\n",
       "</style>\n",
       "<table border=\"1\" class=\"dataframe\">\n",
       "  <thead>\n",
       "    <tr style=\"text-align: right;\">\n",
       "      <th></th>\n",
       "      <th>mean</th>\n",
       "      <th>sd</th>\n",
       "      <th>hpd_3%</th>\n",
       "      <th>hpd_97%</th>\n",
       "      <th>mcse_mean</th>\n",
       "      <th>mcse_sd</th>\n",
       "      <th>ess_mean</th>\n",
       "      <th>ess_sd</th>\n",
       "      <th>ess_bulk</th>\n",
       "      <th>ess_tail</th>\n",
       "      <th>r_hat</th>\n",
       "    </tr>\n",
       "  </thead>\n",
       "  <tbody>\n",
       "    <tr>\n",
       "      <th>a</th>\n",
       "      <td>5.382</td>\n",
       "      <td>0.535</td>\n",
       "      <td>4.483</td>\n",
       "      <td>6.442</td>\n",
       "      <td>0.015</td>\n",
       "      <td>0.011</td>\n",
       "      <td>1207.0</td>\n",
       "      <td>1207.0</td>\n",
       "      <td>1213.0</td>\n",
       "      <td>1113.0</td>\n",
       "      <td>1.01</td>\n",
       "    </tr>\n",
       "    <tr>\n",
       "      <th>bl</th>\n",
       "      <td>4.768</td>\n",
       "      <td>4.210</td>\n",
       "      <td>-2.524</td>\n",
       "      <td>13.789</td>\n",
       "      <td>0.146</td>\n",
       "      <td>0.106</td>\n",
       "      <td>837.0</td>\n",
       "      <td>793.0</td>\n",
       "      <td>847.0</td>\n",
       "      <td>821.0</td>\n",
       "      <td>1.01</td>\n",
       "    </tr>\n",
       "    <tr>\n",
       "      <th>br</th>\n",
       "      <td>-4.059</td>\n",
       "      <td>4.210</td>\n",
       "      <td>-12.555</td>\n",
       "      <td>3.756</td>\n",
       "      <td>0.146</td>\n",
       "      <td>0.106</td>\n",
       "      <td>834.0</td>\n",
       "      <td>790.0</td>\n",
       "      <td>844.0</td>\n",
       "      <td>836.0</td>\n",
       "      <td>1.01</td>\n",
       "    </tr>\n",
       "    <tr>\n",
       "      <th>sigma</th>\n",
       "      <td>1.603</td>\n",
       "      <td>0.112</td>\n",
       "      <td>1.410</td>\n",
       "      <td>1.825</td>\n",
       "      <td>0.004</td>\n",
       "      <td>0.003</td>\n",
       "      <td>911.0</td>\n",
       "      <td>896.0</td>\n",
       "      <td>931.0</td>\n",
       "      <td>1012.0</td>\n",
       "      <td>1.01</td>\n",
       "    </tr>\n",
       "  </tbody>\n",
       "</table>\n",
       "</div>"
      ],
      "text/plain": [
       "        mean     sd  hpd_3%  hpd_97%  mcse_mean  mcse_sd  ess_mean  ess_sd  \\\n",
       "a      5.382  0.535   4.483    6.442      0.015    0.011    1207.0  1207.0   \n",
       "bl     4.768  4.210  -2.524   13.789      0.146    0.106     837.0   793.0   \n",
       "br    -4.059  4.210 -12.555    3.756      0.146    0.106     834.0   790.0   \n",
       "sigma  1.603  0.112   1.410    1.825      0.004    0.003     911.0   896.0   \n",
       "\n",
       "       ess_bulk  ess_tail  r_hat  \n",
       "a        1213.0    1113.0   1.01  \n",
       "bl        847.0     821.0   1.01  \n",
       "br        844.0     836.0   1.01  \n",
       "sigma     931.0    1012.0   1.01  "
      ]
     },
     "execution_count": 19,
     "metadata": {},
     "output_type": "execute_result"
    }
   ],
   "source": [
    "with pm.Model() as m_6_1:\n",
    "    sigma = pm.Exponential(\"sigma\", 1)\n",
    "    br = pm.Normal(\"br\", 2, 10)\n",
    "    bl = pm.Normal(\"bl\", 2, 10)\n",
    "    a = pm.Normal(\"a\", 10, 100)\n",
    "    mu = pm.Deterministic(\"mu\", a + bl*leg_left + br*leg_right)\n",
    "    predicted_height = pm.Normal(\"height\", mu, sigma, observed=height)\n",
    "    \n",
    "    trace_6_1 = pm.sample()\n",
    "    \n",
    "az.summary(trace_6_1, var_names=[\"a\", \"bl\", \"br\", \"sigma\"])\n",
    "    "
   ]
  },
  {
   "cell_type": "markdown",
   "metadata": {},
   "source": [
    "#### 6.4"
   ]
  },
  {
   "cell_type": "code",
   "execution_count": 16,
   "metadata": {},
   "outputs": [
    {
     "data": {
      "text/plain": [
       "array([<matplotlib.axes._subplots.AxesSubplot object at 0x7f7af569c610>],\n",
       "      dtype=object)"
      ]
     },
     "execution_count": 16,
     "metadata": {},
     "output_type": "execute_result"
    },
    {
     "data": {
      "image/png": "[encoded data removed]",
      "text/plain": [
       "<Figure size 432x532.8 with 1 Axes>"
      ]
     },
     "metadata": {
      "needs_background": "light"
     },
     "output_type": "display_data"
    }
   ],
   "source": [
    "az.plot_forest(trace_6_1,  var_names=[\"a\", \"bl\", \"br\", \"sigma\"], combined=True);"
   ]
  },
  {
   "cell_type": "markdown",
   "metadata": {},
   "source": [
    "#### 6.5"
   ]
  },
  {
   "cell_type": "code",
   "execution_count": 22,
   "metadata": {},
   "outputs": [
    {
     "name": "stderr",
     "output_type": "stream",
     "text": [
      "100%|██████████| 2000/2000 [00:00<00:00, 34349.84it/s]\n"
     ]
    },
    {
     "data": {
      "text/plain": [
       "array([<matplotlib.axes._subplots.AxesSubplot object at 0x7f7ae5db25b0>,\n",
       "       <matplotlib.axes._subplots.AxesSubplot object at 0x7f7ae5ce7220>,\n",
       "       <matplotlib.axes._subplots.AxesSubplot object at 0x7f7ae5c2cac0>],\n",
       "      dtype=object)"
      ]
     },
     "execution_count": 22,
     "metadata": {},
     "output_type": "execute_result"
    },
    {
     "data": {
      "image/png": "[encoded data removed]",
      "text/plain": [
       "<Figure size 432x288 with 3 Axes>"
      ]
     },
     "metadata": {
      "needs_background": "light"
     },
     "output_type": "display_data"
    }
   ],
   "source": [
    "with m_6_1:\n",
    "    posterior_predictive_6_1 = pm.sample_posterior_predictive(trace_6_1, var_names=[\"bl\", \"br\"])\n",
    "\n",
    "    # We'll use arviz density plot here for convenience\n",
    "az.plot_joint({\"br\":posterior_predictive_6_1[\"br\"], \"bl\":posterior_predictive_6_1[\"bl\"]})"
   ]
  },
  {
   "cell_type": "markdown",
   "metadata": {},
   "source": [
    "#### 6.6\n",
    "Median doesn't seen to match book"
   ]
  },
  {
   "cell_type": "code",
   "execution_count": 26,
   "metadata": {},
   "outputs": [
    {
     "data": {
      "text/plain": [
       "Text(0.5, 0, 'sum of bl and br')"
      ]
     },
     "execution_count": 26,
     "metadata": {},
     "output_type": "execute_result"
    },
    {
     "data": {
      "image/png": "[encoded data removed]",
      "text/plain": [
       "<Figure size 432x288 with 1 Axes>"
      ]
     },
     "metadata": {
      "needs_background": "light"
     },
     "output_type": "display_data"
    }
   ],
   "source": [
    "sum_blbr = posterior_predictive_6_1[\"br\"] + posterior_predictive_6_1[\"bl\"]\n",
    "ax = az.plot_density(sum_blbr)\n",
    "ax[0].set_xlabel(\"sum of bl and br\")"
   ]
  },
  {
   "cell_type": "markdown",
   "metadata": {},
   "source": [
    "#### 6.7"
   ]
  },
  {
   "cell_type": "code",
   "execution_count": 27,
   "metadata": {},
   "outputs": [
    {
     "name": "stderr",
     "output_type": "stream",
     "text": [
      "Auto-assigning NUTS sampler...\n",
      "Initializing NUTS using jitter+adapt_diag...\n",
      "Multiprocess sampling (4 chains in 4 jobs)\n",
      "NUTS: [a, bl, sigma]\n",
      "Sampling 4 chains, 0 divergences: 100%|██████████| 4000/4000 [00:01<00:00, 2879.38draws/s]\n",
      "The acceptance probability does not match the target. It is 0.8998858618457009, but should be close to 0.8. Try to increase the number of tuning steps.\n"
     ]
    },
    {
     "data": {
      "text/html": [
       "<div>\n",
       "<style scoped>\n",
       "    .dataframe tbody tr th:only-of-type {\n",
       "        vertical-align: middle;\n",
       "    }\n",
       "\n",
       "    .dataframe tbody tr th {\n",
       "        vertical-align: top;\n",
       "    }\n",
       "\n",
       "    .dataframe thead th {\n",
       "        text-align: right;\n",
       "    }\n",
       "</style>\n",
       "<table border=\"1\" class=\"dataframe\">\n",
       "  <thead>\n",
       "    <tr style=\"text-align: right;\">\n",
       "      <th></th>\n",
       "      <th>mean</th>\n",
       "      <th>sd</th>\n",
       "      <th>hpd_3%</th>\n",
       "      <th>hpd_97%</th>\n",
       "      <th>mcse_mean</th>\n",
       "      <th>mcse_sd</th>\n",
       "      <th>ess_mean</th>\n",
       "      <th>ess_sd</th>\n",
       "      <th>ess_bulk</th>\n",
       "      <th>ess_tail</th>\n",
       "      <th>r_hat</th>\n",
       "    </tr>\n",
       "  </thead>\n",
       "  <tbody>\n",
       "    <tr>\n",
       "      <th>a</th>\n",
       "      <td>5.357</td>\n",
       "      <td>0.595</td>\n",
       "      <td>4.261</td>\n",
       "      <td>6.434</td>\n",
       "      <td>0.022</td>\n",
       "      <td>0.016</td>\n",
       "      <td>733.0</td>\n",
       "      <td>723.0</td>\n",
       "      <td>729.0</td>\n",
       "      <td>814.0</td>\n",
       "      <td>1.00</td>\n",
       "    </tr>\n",
       "    <tr>\n",
       "      <th>bl</th>\n",
       "      <td>0.708</td>\n",
       "      <td>0.088</td>\n",
       "      <td>0.552</td>\n",
       "      <td>0.875</td>\n",
       "      <td>0.003</td>\n",
       "      <td>0.002</td>\n",
       "      <td>732.0</td>\n",
       "      <td>732.0</td>\n",
       "      <td>730.0</td>\n",
       "      <td>818.0</td>\n",
       "      <td>1.00</td>\n",
       "    </tr>\n",
       "    <tr>\n",
       "      <th>sigma</th>\n",
       "      <td>1.611</td>\n",
       "      <td>0.125</td>\n",
       "      <td>1.389</td>\n",
       "      <td>1.856</td>\n",
       "      <td>0.004</td>\n",
       "      <td>0.003</td>\n",
       "      <td>791.0</td>\n",
       "      <td>769.0</td>\n",
       "      <td>813.0</td>\n",
       "      <td>756.0</td>\n",
       "      <td>1.01</td>\n",
       "    </tr>\n",
       "  </tbody>\n",
       "</table>\n",
       "</div>"
      ],
      "text/plain": [
       "        mean     sd  hpd_3%  hpd_97%  mcse_mean  mcse_sd  ess_mean  ess_sd  \\\n",
       "a      5.357  0.595   4.261    6.434      0.022    0.016     733.0   723.0   \n",
       "bl     0.708  0.088   0.552    0.875      0.003    0.002     732.0   732.0   \n",
       "sigma  1.611  0.125   1.389    1.856      0.004    0.003     791.0   769.0   \n",
       "\n",
       "       ess_bulk  ess_tail  r_hat  \n",
       "a         729.0     814.0   1.00  \n",
       "bl        730.0     818.0   1.00  \n",
       "sigma     813.0     756.0   1.01  "
      ]
     },
     "execution_count": 27,
     "metadata": {},
     "output_type": "execute_result"
    }
   ],
   "source": [
    "with pm.Model() as m_6_2:\n",
    "    sigma = pm.Exponential(\"sigma\", 1)\n",
    "    bl = pm.Normal(\"bl\", 2, 10)\n",
    "    a = pm.Normal(\"a\", 10, 100)\n",
    "    mu = pm.Deterministic(\"mu\", a + bl*leg_left)\n",
    "    predicted_height = pm.Normal(\"height\", mu, sigma, observed=height)\n",
    "    \n",
    "    trace_6_2 = pm.sample()\n",
    "    \n",
    "az.summary(trace_6_2, var_names=[\"a\", \"bl\", \"sigma\"])"
   ]
  },
  {
   "cell_type": "markdown",
   "metadata": {},
   "source": [
    "#### 6.8"
   ]
  },
  {
   "cell_type": "code",
   "execution_count": 37,
   "metadata": {},
   "outputs": [
    {
     "data": {
      "text/html": [
       "<div>\n",
       "<style scoped>\n",
       "    .dataframe tbody tr th:only-of-type {\n",
       "        vertical-align: middle;\n",
       "    }\n",
       "\n",
       "    .dataframe tbody tr th {\n",
       "        vertical-align: top;\n",
       "    }\n",
       "\n",
       "    .dataframe thead th {\n",
       "        text-align: right;\n",
       "    }\n",
       "</style>\n",
       "<table border=\"1\" class=\"dataframe\">\n",
       "  <thead>\n",
       "    <tr style=\"text-align: right;\">\n",
       "      <th></th>\n",
       "      <th>clade</th>\n",
       "      <th>species</th>\n",
       "      <th>kcal.per.g</th>\n",
       "      <th>perc.fat</th>\n",
       "      <th>perc.protein</th>\n",
       "      <th>perc.lactose</th>\n",
       "      <th>mass</th>\n",
       "      <th>neocortex.perc</th>\n",
       "      <th>K</th>\n",
       "      <th>F</th>\n",
       "      <th>L</th>\n",
       "    </tr>\n",
       "  </thead>\n",
       "  <tbody>\n",
       "    <tr>\n",
       "      <th>0</th>\n",
       "      <td>Strepsirrhine</td>\n",
       "      <td>Eulemur fulvus</td>\n",
       "      <td>0.49</td>\n",
       "      <td>16.60</td>\n",
       "      <td>15.42</td>\n",
       "      <td>67.98</td>\n",
       "      <td>1.95</td>\n",
       "      <td>55.16</td>\n",
       "      <td>-0.940041</td>\n",
       "      <td>-1.217243</td>\n",
       "      <td>1.307262</td>\n",
       "    </tr>\n",
       "    <tr>\n",
       "      <th>1</th>\n",
       "      <td>Strepsirrhine</td>\n",
       "      <td>E macaco</td>\n",
       "      <td>0.51</td>\n",
       "      <td>19.27</td>\n",
       "      <td>16.91</td>\n",
       "      <td>63.82</td>\n",
       "      <td>2.09</td>\n",
       "      <td>NaN</td>\n",
       "      <td>-0.816126</td>\n",
       "      <td>-1.030355</td>\n",
       "      <td>1.011285</td>\n",
       "    </tr>\n",
       "    <tr>\n",
       "      <th>2</th>\n",
       "      <td>Strepsirrhine</td>\n",
       "      <td>E mongoz</td>\n",
       "      <td>0.46</td>\n",
       "      <td>14.11</td>\n",
       "      <td>16.85</td>\n",
       "      <td>69.04</td>\n",
       "      <td>2.51</td>\n",
       "      <td>NaN</td>\n",
       "      <td>-1.125913</td>\n",
       "      <td>-1.391531</td>\n",
       "      <td>1.382679</td>\n",
       "    </tr>\n",
       "    <tr>\n",
       "      <th>3</th>\n",
       "      <td>Strepsirrhine</td>\n",
       "      <td>E rubriventer</td>\n",
       "      <td>0.48</td>\n",
       "      <td>14.91</td>\n",
       "      <td>13.18</td>\n",
       "      <td>71.91</td>\n",
       "      <td>1.62</td>\n",
       "      <td>NaN</td>\n",
       "      <td>-1.001998</td>\n",
       "      <td>-1.335535</td>\n",
       "      <td>1.586874</td>\n",
       "    </tr>\n",
       "    <tr>\n",
       "      <th>4</th>\n",
       "      <td>Strepsirrhine</td>\n",
       "      <td>Lemur catta</td>\n",
       "      <td>0.60</td>\n",
       "      <td>27.28</td>\n",
       "      <td>19.50</td>\n",
       "      <td>53.22</td>\n",
       "      <td>2.19</td>\n",
       "      <td>NaN</td>\n",
       "      <td>-0.258511</td>\n",
       "      <td>-0.469693</td>\n",
       "      <td>0.257115</td>\n",
       "    </tr>\n",
       "  </tbody>\n",
       "</table>\n",
       "</div>"
      ],
      "text/plain": [
       "           clade         species  kcal.per.g  perc.fat  perc.protein  \\\n",
       "0  Strepsirrhine  Eulemur fulvus        0.49     16.60         15.42   \n",
       "1  Strepsirrhine        E macaco        0.51     19.27         16.91   \n",
       "2  Strepsirrhine        E mongoz        0.46     14.11         16.85   \n",
       "3  Strepsirrhine   E rubriventer        0.48     14.91         13.18   \n",
       "4  Strepsirrhine     Lemur catta        0.60     27.28         19.50   \n",
       "\n",
       "   perc.lactose  mass  neocortex.perc         K         F         L  \n",
       "0         67.98  1.95           55.16 -0.940041 -1.217243  1.307262  \n",
       "1         63.82  2.09             NaN -0.816126 -1.030355  1.011285  \n",
       "2         69.04  2.51             NaN -1.125913 -1.391531  1.382679  \n",
       "3         71.91  1.62             NaN -1.001998 -1.335535  1.586874  \n",
       "4         53.22  2.19             NaN -0.258511 -0.469693  0.257115  "
      ]
     },
     "execution_count": 37,
     "metadata": {},
     "output_type": "execute_result"
    }
   ],
   "source": [
    "d = pd.read_csv(os.path.join(\"Data\", \"milk.csv\"), delimiter=\";\")\n",
    "d[\"K\"] = standardize(d[\"kcal.per.g\"])\n",
    "d[\"F\"] = standardize(d[\"perc.fat\"])\n",
    "d[\"L\"] = standardize(d[\"perc.lactose\"])\n",
    "d.head()"
   ]
  },
  {
   "cell_type": "markdown",
   "metadata": {},
   "source": [
    "#### 6.8"
   ]
  },
  {
   "cell_type": "code",
   "execution_count": 40,
   "metadata": {},
   "outputs": [
    {
     "name": "stderr",
     "output_type": "stream",
     "text": [
      "Auto-assigning NUTS sampler...\n",
      "Initializing NUTS using jitter+adapt_diag...\n",
      "Multiprocess sampling (4 chains in 4 jobs)\n",
      "NUTS: [a, bF, sigma]\n",
      "Sampling 4 chains, 0 divergences: 100%|██████████| 4000/4000 [00:00<00:00, 5469.55draws/s]\n",
      "Auto-assigning NUTS sampler...\n",
      "Initializing NUTS using jitter+adapt_diag...\n",
      "Multiprocess sampling (4 chains in 4 jobs)\n",
      "NUTS: [a, bL, sigma]\n",
      "Sampling 4 chains, 0 divergences: 100%|██████████| 4000/4000 [00:00<00:00, 5494.30draws/s]\n",
      "The acceptance probability does not match the target. It is 0.8886103106604101, but should be close to 0.8. Try to increase the number of tuning steps.\n"
     ]
    }
   ],
   "source": [
    "with pm.Model() as m_6_3:\n",
    "    sigma = pm.Exponential(\"sigma\", 1)\n",
    "    bF = pm.Normal(\"bF\", 0, 0.5)\n",
    "    a = pm.Normal(\"a\", 0, 0.2)\n",
    "    mu = pm.Deterministic(\"mu\", a + bF*d[\"F\"])\n",
    "    k = pm.Normal(\"K\", mu, sigma, observed=d[\"K\"])\n",
    "    \n",
    "    trace_6_3 = pm.sample()\n",
    "        \n",
    "with pm.Model() as m_6_4:\n",
    "    sigma = pm.Exponential(\"sigma\", 1)\n",
    "    bL = pm.Normal(\"bL\", 0, 0.5)\n",
    "    a = pm.Normal(\"a\", 0, 0.2)\n",
    "    mu = pm.Deterministic(\"mu\", a + bL*d[\"L\"])\n",
    "    k = pm.Normal(\"K\", mu, sigma, observed=d[\"K\"])\n",
    "    \n",
    "    trace_6_4 = pm.sample()\n",
    "    "
   ]
  },
  {
   "cell_type": "code",
   "execution_count": 42,
   "metadata": {},
   "outputs": [
    {
     "data": {
      "text/html": [
       "<div>\n",
       "<style scoped>\n",
       "    .dataframe tbody tr th:only-of-type {\n",
       "        vertical-align: middle;\n",
       "    }\n",
       "\n",
       "    .dataframe tbody tr th {\n",
       "        vertical-align: top;\n",
       "    }\n",
       "\n",
       "    .dataframe thead th {\n",
       "        text-align: right;\n",
       "    }\n",
       "</style>\n",
       "<table border=\"1\" class=\"dataframe\">\n",
       "  <thead>\n",
       "    <tr style=\"text-align: right;\">\n",
       "      <th></th>\n",
       "      <th>mean</th>\n",
       "      <th>sd</th>\n",
       "      <th>hpd_3%</th>\n",
       "      <th>hpd_97%</th>\n",
       "      <th>mcse_mean</th>\n",
       "      <th>mcse_sd</th>\n",
       "      <th>ess_mean</th>\n",
       "      <th>ess_sd</th>\n",
       "      <th>ess_bulk</th>\n",
       "      <th>ess_tail</th>\n",
       "      <th>r_hat</th>\n",
       "    </tr>\n",
       "  </thead>\n",
       "  <tbody>\n",
       "    <tr>\n",
       "      <th>a</th>\n",
       "      <td>-0.000</td>\n",
       "      <td>0.083</td>\n",
       "      <td>-0.159</td>\n",
       "      <td>0.144</td>\n",
       "      <td>0.002</td>\n",
       "      <td>0.002</td>\n",
       "      <td>2585.0</td>\n",
       "      <td>1033.0</td>\n",
       "      <td>2584.0</td>\n",
       "      <td>1560.0</td>\n",
       "      <td>1.00</td>\n",
       "    </tr>\n",
       "    <tr>\n",
       "      <th>bF</th>\n",
       "      <td>0.857</td>\n",
       "      <td>0.089</td>\n",
       "      <td>0.696</td>\n",
       "      <td>1.019</td>\n",
       "      <td>0.002</td>\n",
       "      <td>0.001</td>\n",
       "      <td>2180.0</td>\n",
       "      <td>2179.0</td>\n",
       "      <td>2168.0</td>\n",
       "      <td>1520.0</td>\n",
       "      <td>1.00</td>\n",
       "    </tr>\n",
       "    <tr>\n",
       "      <th>sigma</th>\n",
       "      <td>0.487</td>\n",
       "      <td>0.070</td>\n",
       "      <td>0.373</td>\n",
       "      <td>0.617</td>\n",
       "      <td>0.002</td>\n",
       "      <td>0.001</td>\n",
       "      <td>2030.0</td>\n",
       "      <td>1969.0</td>\n",
       "      <td>2048.0</td>\n",
       "      <td>1522.0</td>\n",
       "      <td>1.01</td>\n",
       "    </tr>\n",
       "  </tbody>\n",
       "</table>\n",
       "</div>"
      ],
      "text/plain": [
       "        mean     sd  hpd_3%  hpd_97%  mcse_mean  mcse_sd  ess_mean  ess_sd  \\\n",
       "a     -0.000  0.083  -0.159    0.144      0.002    0.002    2585.0  1033.0   \n",
       "bF     0.857  0.089   0.696    1.019      0.002    0.001    2180.0  2179.0   \n",
       "sigma  0.487  0.070   0.373    0.617      0.002    0.001    2030.0  1969.0   \n",
       "\n",
       "       ess_bulk  ess_tail  r_hat  \n",
       "a        2584.0    1560.0   1.00  \n",
       "bF       2168.0    1520.0   1.00  \n",
       "sigma    2048.0    1522.0   1.01  "
      ]
     },
     "execution_count": 42,
     "metadata": {},
     "output_type": "execute_result"
    }
   ],
   "source": [
    "az.summary(trace_6_3, var_names=[\"a\", \"bF\", \"sigma\"])"
   ]
  },
  {
   "cell_type": "code",
   "execution_count": 44,
   "metadata": {},
   "outputs": [
    {
     "data": {
      "text/html": [
       "<div>\n",
       "<style scoped>\n",
       "    .dataframe tbody tr th:only-of-type {\n",
       "        vertical-align: middle;\n",
       "    }\n",
       "\n",
       "    .dataframe tbody tr th {\n",
       "        vertical-align: top;\n",
       "    }\n",
       "\n",
       "    .dataframe thead th {\n",
       "        text-align: right;\n",
       "    }\n",
       "</style>\n",
       "<table border=\"1\" class=\"dataframe\">\n",
       "  <thead>\n",
       "    <tr style=\"text-align: right;\">\n",
       "      <th></th>\n",
       "      <th>mean</th>\n",
       "      <th>sd</th>\n",
       "      <th>hpd_3%</th>\n",
       "      <th>hpd_97%</th>\n",
       "      <th>mcse_mean</th>\n",
       "      <th>mcse_sd</th>\n",
       "      <th>ess_mean</th>\n",
       "      <th>ess_sd</th>\n",
       "      <th>ess_bulk</th>\n",
       "      <th>ess_tail</th>\n",
       "      <th>r_hat</th>\n",
       "    </tr>\n",
       "  </thead>\n",
       "  <tbody>\n",
       "    <tr>\n",
       "      <th>a</th>\n",
       "      <td>-0.003</td>\n",
       "      <td>0.074</td>\n",
       "      <td>-0.131</td>\n",
       "      <td>0.150</td>\n",
       "      <td>0.002</td>\n",
       "      <td>0.002</td>\n",
       "      <td>1798.0</td>\n",
       "      <td>822.0</td>\n",
       "      <td>1887.0</td>\n",
       "      <td>1169.0</td>\n",
       "      <td>1.0</td>\n",
       "    </tr>\n",
       "    <tr>\n",
       "      <th>bL</th>\n",
       "      <td>-0.896</td>\n",
       "      <td>0.079</td>\n",
       "      <td>-1.041</td>\n",
       "      <td>-0.734</td>\n",
       "      <td>0.002</td>\n",
       "      <td>0.001</td>\n",
       "      <td>2222.0</td>\n",
       "      <td>2222.0</td>\n",
       "      <td>2246.0</td>\n",
       "      <td>1507.0</td>\n",
       "      <td>1.0</td>\n",
       "    </tr>\n",
       "    <tr>\n",
       "      <th>sigma</th>\n",
       "      <td>0.412</td>\n",
       "      <td>0.058</td>\n",
       "      <td>0.313</td>\n",
       "      <td>0.519</td>\n",
       "      <td>0.001</td>\n",
       "      <td>0.001</td>\n",
       "      <td>1816.0</td>\n",
       "      <td>1733.0</td>\n",
       "      <td>1838.0</td>\n",
       "      <td>1251.0</td>\n",
       "      <td>1.0</td>\n",
       "    </tr>\n",
       "  </tbody>\n",
       "</table>\n",
       "</div>"
      ],
      "text/plain": [
       "        mean     sd  hpd_3%  hpd_97%  mcse_mean  mcse_sd  ess_mean  ess_sd  \\\n",
       "a     -0.003  0.074  -0.131    0.150      0.002    0.002    1798.0   822.0   \n",
       "bL    -0.896  0.079  -1.041   -0.734      0.002    0.001    2222.0  2222.0   \n",
       "sigma  0.412  0.058   0.313    0.519      0.001    0.001    1816.0  1733.0   \n",
       "\n",
       "       ess_bulk  ess_tail  r_hat  \n",
       "a        1887.0    1169.0    1.0  \n",
       "bL       2246.0    1507.0    1.0  \n",
       "sigma    1838.0    1251.0    1.0  "
      ]
     },
     "execution_count": 44,
     "metadata": {},
     "output_type": "execute_result"
    }
   ],
   "source": [
    "az.summary(trace_6_4, var_names=[\"a\", \"bL\", \"sigma\"])"
   ]
  },
  {
   "cell_type": "markdown",
   "metadata": {},
   "source": [
    "#### 6.10"
   ]
  },
  {
   "cell_type": "code",
   "execution_count": 47,
   "metadata": {},
   "outputs": [
    {
     "name": "stderr",
     "output_type": "stream",
     "text": [
      "Auto-assigning NUTS sampler...\n",
      "Initializing NUTS using jitter+adapt_diag...\n",
      "Multiprocess sampling (4 chains in 4 jobs)\n",
      "NUTS: [a, bF, bL, sigma]\n",
      "Sampling 4 chains, 0 divergences: 100%|██████████| 4000/4000 [00:01<00:00, 2982.54draws/s]\n",
      "The acceptance probability does not match the target. It is 0.886432685963364, but should be close to 0.8. Try to increase the number of tuning steps.\n"
     ]
    }
   ],
   "source": [
    "with pm.Model() as m_6_4:\n",
    "    sigma = pm.Exponential(\"sigma\", 1)\n",
    "    bL = pm.Normal(\"bL\", 0, 0.5)\n",
    "    bF = pm.Normal(\"bF\", 0, 0.5)\n",
    "    a = pm.Normal(\"a\", 0, 0.2)\n",
    "    mu = pm.Deterministic(\"mu\", a + bL*d[\"L\"] + bF*d[\"F\"])\n",
    "    k = pm.Normal(\"K\", mu, sigma, observed=d[\"K\"])\n",
    "    \n",
    "    trace_6_5 = pm.sample()\n",
    "    "
   ]
  },
  {
   "cell_type": "code",
   "execution_count": 49,
   "metadata": {},
   "outputs": [
    {
     "data": {
      "text/html": [
       "<div>\n",
       "<style scoped>\n",
       "    .dataframe tbody tr th:only-of-type {\n",
       "        vertical-align: middle;\n",
       "    }\n",
       "\n",
       "    .dataframe tbody tr th {\n",
       "        vertical-align: top;\n",
       "    }\n",
       "\n",
       "    .dataframe thead th {\n",
       "        text-align: right;\n",
       "    }\n",
       "</style>\n",
       "<table border=\"1\" class=\"dataframe\">\n",
       "  <thead>\n",
       "    <tr style=\"text-align: right;\">\n",
       "      <th></th>\n",
       "      <th>mean</th>\n",
       "      <th>sd</th>\n",
       "      <th>hpd_3%</th>\n",
       "      <th>hpd_97%</th>\n",
       "      <th>mcse_mean</th>\n",
       "      <th>mcse_sd</th>\n",
       "      <th>ess_mean</th>\n",
       "      <th>ess_sd</th>\n",
       "      <th>ess_bulk</th>\n",
       "      <th>ess_tail</th>\n",
       "      <th>r_hat</th>\n",
       "    </tr>\n",
       "  </thead>\n",
       "  <tbody>\n",
       "    <tr>\n",
       "      <th>a</th>\n",
       "      <td>0.000</td>\n",
       "      <td>0.071</td>\n",
       "      <td>-0.139</td>\n",
       "      <td>0.127</td>\n",
       "      <td>0.002</td>\n",
       "      <td>0.002</td>\n",
       "      <td>1344.0</td>\n",
       "      <td>713.0</td>\n",
       "      <td>1348.0</td>\n",
       "      <td>884.0</td>\n",
       "      <td>1.0</td>\n",
       "    </tr>\n",
       "    <tr>\n",
       "      <th>bF</th>\n",
       "      <td>0.256</td>\n",
       "      <td>0.190</td>\n",
       "      <td>-0.076</td>\n",
       "      <td>0.638</td>\n",
       "      <td>0.006</td>\n",
       "      <td>0.004</td>\n",
       "      <td>1148.0</td>\n",
       "      <td>1098.0</td>\n",
       "      <td>1147.0</td>\n",
       "      <td>1169.0</td>\n",
       "      <td>1.0</td>\n",
       "    </tr>\n",
       "    <tr>\n",
       "      <th>bL</th>\n",
       "      <td>-0.665</td>\n",
       "      <td>0.190</td>\n",
       "      <td>-0.986</td>\n",
       "      <td>-0.287</td>\n",
       "      <td>0.006</td>\n",
       "      <td>0.004</td>\n",
       "      <td>1177.0</td>\n",
       "      <td>1175.0</td>\n",
       "      <td>1180.0</td>\n",
       "      <td>1123.0</td>\n",
       "      <td>1.0</td>\n",
       "    </tr>\n",
       "    <tr>\n",
       "      <th>sigma</th>\n",
       "      <td>0.411</td>\n",
       "      <td>0.058</td>\n",
       "      <td>0.301</td>\n",
       "      <td>0.512</td>\n",
       "      <td>0.002</td>\n",
       "      <td>0.001</td>\n",
       "      <td>1172.0</td>\n",
       "      <td>1160.0</td>\n",
       "      <td>1175.0</td>\n",
       "      <td>960.0</td>\n",
       "      <td>1.0</td>\n",
       "    </tr>\n",
       "  </tbody>\n",
       "</table>\n",
       "</div>"
      ],
      "text/plain": [
       "        mean     sd  hpd_3%  hpd_97%  mcse_mean  mcse_sd  ess_mean  ess_sd  \\\n",
       "a      0.000  0.071  -0.139    0.127      0.002    0.002    1344.0   713.0   \n",
       "bF     0.256  0.190  -0.076    0.638      0.006    0.004    1148.0  1098.0   \n",
       "bL    -0.665  0.190  -0.986   -0.287      0.006    0.004    1177.0  1175.0   \n",
       "sigma  0.411  0.058   0.301    0.512      0.002    0.001    1172.0  1160.0   \n",
       "\n",
       "       ess_bulk  ess_tail  r_hat  \n",
       "a        1348.0     884.0    1.0  \n",
       "bF       1147.0    1169.0    1.0  \n",
       "bL       1180.0    1123.0    1.0  \n",
       "sigma    1175.0     960.0    1.0  "
      ]
     },
     "execution_count": 49,
     "metadata": {},
     "output_type": "execute_result"
    }
   ],
   "source": [
    "az.summary(trace_6_5, var_names=[\"a\", \"bF\", \"bL\", \"sigma\"])"
   ]
  },
  {
   "cell_type": "markdown",
   "metadata": {},
   "source": [
    "#### 6.11"
   ]
  },
  {
   "cell_type": "code",
   "execution_count": 53,
   "metadata": {},
   "outputs": [
    {
     "data": {
      "image/png": "[encoded data removed]",
      "text/plain": [
       "<Figure size 540x540 with 12 Axes>"
      ]
     },
     "metadata": {
      "needs_background": "light"
     },
     "output_type": "display_data"
    }
   ],
   "source": [
    "df = d[['kcal.per.g','perc.fat','perc.lactose']]\n",
    "sns.pairplot(df);`b"
   ]
  },
  {
   "cell_type": "markdown",
   "metadata": {},
   "source": [
    "##### 6.12"
   ]
  },
  {
   "cell_type": "code",
   "execution_count": null,
   "metadata": {},
   "outputs": [],
   "source": [
    "def simcoll(r = 0.9):\n",
    "    milk['x'] = stats.norm.rvs(size=len(milk), loc = r * milk['perc.fat'],\n",
    "                       scale = np.sqrt((1 - r**2) * milk['perc.fat'].var()))\n",
    "    X = np.column_stack((milk['perc.fat'], milk['x']))\n",
    "    m = smf.OLS(milk['kcal.per.g'], X).fit()\n",
    "    cov = m.cov_params()\n",
    "    return (np.diag(cov)[1])**0.5\n",
    "    \n",
    "def repsimcoll(r= 0.9, N = 100):\n",
    "    stddev = [simcoll(r) for _ in range(N)]\n",
    "    return np.mean(stddev)\n",
    "\n",
    "lista = []\n",
    "for i in np.arange(start = 0, stop = 0.99, step = 0.01):   \n",
    "    lista.append(repsimcoll (r= i, N = 100))\n",
    "\n",
    "plt.plot(np.arange(start = 0, stop = 0.99, step = 0.01), lista)\n",
    "plt.xlabel('correlation', fontsize=14)\n",
    "plt.ylabel('stddev', fontsize=14);"
   ]
  }
 ],
 "metadata": {
  "kernelspec": {
   "display_name": "Python 3",
   "language": "python",
   "name": "python3"
  },
  "language_info": {
   "codemirror_mode": {
    "name": "ipython",
    "version": 3
   },
   "file_extension": ".py",
   "mimetype": "text/x-python",
   "name": "python",
   "nbconvert_exporter": "python",
   "pygments_lexer": "ipython3",
   "version": "3.8.1"
  }
 },
 "nbformat": 4,
 "nbformat_minor": 4
}

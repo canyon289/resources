{
 "cells": [
  {
   "cell_type": "code",
   "execution_count": 29,
   "metadata": {},
   "outputs": [],
   "source": [
    "import os\n",
    "\n",
    "import arviz as az\n",
    "import matplotlib.pyplot as plt\n",
    "import numpy as np\n",
    "import pandas as pd\n",
    "import pymc3 as pm\n",
    "import scipy.stats as stats\n",
    "import scipy\n",
    "import seaborn as sns\n",
    "\n",
    "from statsmodels.regression import linear_model"
   ]
  },
  {
   "cell_type": "code",
   "execution_count": 2,
   "metadata": {},
   "outputs": [],
   "source": [
    "def standardize(series):\n",
    "    \"\"\"Standardize a pandas series\"\"\"\n",
    "    std_series = (series - series.mean()) / series.std()\n",
    "    return std_series"
   ]
  },
  {
   "cell_type": "markdown",
   "metadata": {},
   "source": [
    "#### 6.1"
   ]
  },
  {
   "cell_type": "code",
   "execution_count": 3,
   "metadata": {},
   "outputs": [
    {
     "data": {
      "text/plain": [
       "array([[ 1.        , -0.64839295],\n",
       "       [-0.64839295,  1.        ]])"
      ]
     },
     "execution_count": 3,
     "metadata": {},
     "output_type": "execute_result"
    }
   ],
   "source": [
    "# Note even though the seed is the same as in the book the randomness is not\n",
    "np.random.seed(1914)\n",
    "N = 200 # Num grant proposals\n",
    "p = .1 # Proportion to select\n",
    "# Uncorrelated newsworthiness and trustworthiness\n",
    "nw = stats.norm().rvs(N)\n",
    "tw = stats.norm().rvs(N)\n",
    "\n",
    "# Select top combined scores\n",
    "s = tw + nw\n",
    "q = np.quantile(s, 1-p)\n",
    "selected = np.where(s > q)\n",
    "np.corrcoef(tw[selected], nw[selected])"
   ]
  },
  {
   "cell_type": "markdown",
   "metadata": {},
   "source": [
    "#### 6.2"
   ]
  },
  {
   "cell_type": "code",
   "execution_count": 4,
   "metadata": {},
   "outputs": [
    {
     "data": {
      "text/html": [
       "<div>\n",
       "<style scoped>\n",
       "    .dataframe tbody tr th:only-of-type {\n",
       "        vertical-align: middle;\n",
       "    }\n",
       "\n",
       "    .dataframe tbody tr th {\n",
       "        vertical-align: top;\n",
       "    }\n",
       "\n",
       "    .dataframe thead th {\n",
       "        text-align: right;\n",
       "    }\n",
       "</style>\n",
       "<table border=\"1\" class=\"dataframe\">\n",
       "  <thead>\n",
       "    <tr style=\"text-align: right;\">\n",
       "      <th></th>\n",
       "      <th>height</th>\n",
       "      <th>left_leg</th>\n",
       "      <th>leg_right</th>\n",
       "    </tr>\n",
       "  </thead>\n",
       "  <tbody>\n",
       "    <tr>\n",
       "      <th>0</th>\n",
       "      <td>8.463728</td>\n",
       "      <td>6.870923</td>\n",
       "      <td>6.854695</td>\n",
       "    </tr>\n",
       "    <tr>\n",
       "      <th>1</th>\n",
       "      <td>9.854070</td>\n",
       "      <td>7.910084</td>\n",
       "      <td>7.821358</td>\n",
       "    </tr>\n",
       "    <tr>\n",
       "      <th>2</th>\n",
       "      <td>8.668694</td>\n",
       "      <td>7.160617</td>\n",
       "      <td>7.224482</td>\n",
       "    </tr>\n",
       "    <tr>\n",
       "      <th>3</th>\n",
       "      <td>7.523768</td>\n",
       "      <td>3.464097</td>\n",
       "      <td>3.463629</td>\n",
       "    </tr>\n",
       "    <tr>\n",
       "      <th>4</th>\n",
       "      <td>9.381352</td>\n",
       "      <td>5.337605</td>\n",
       "      <td>5.292569</td>\n",
       "    </tr>\n",
       "  </tbody>\n",
       "</table>\n",
       "</div>"
      ],
      "text/plain": [
       "     height  left_leg  leg_right\n",
       "0  8.463728  6.870923   6.854695\n",
       "1  9.854070  7.910084   7.821358\n",
       "2  8.668694  7.160617   7.224482\n",
       "3  7.523768  3.464097   3.463629\n",
       "4  9.381352  5.337605   5.292569"
      ]
     },
     "execution_count": 4,
     "metadata": {},
     "output_type": "execute_result"
    }
   ],
   "source": [
    "# Note even though the seed is the same as in the book the randomness is not\n",
    "N = 100 # number of individuals\n",
    "np.random.seed(909)\n",
    "\n",
    "height = stats.norm(10, 2).rvs(N) # sim total height of each\n",
    "leg_prop = stats.uniform(.4, .5).rvs(N) # leg as a proportion of height\n",
    "\n",
    "leg_left = leg_prop*height + stats.norm(0,.02).rvs(N) # sim left leg as proportion + error\n",
    "leg_right = leg_prop*height + stats.norm(0,.02).rvs(N) # sim right leg as proportion + error\n",
    "\n",
    "d = pd.DataFrame({\"height\": height, \"left_leg\":leg_left, \"leg_right\":leg_right})\n",
    "d.head()"
   ]
  },
  {
   "cell_type": "markdown",
   "metadata": {},
   "source": [
    "#### 6.3"
   ]
  },
  {
   "cell_type": "code",
   "execution_count": 5,
   "metadata": {},
   "outputs": [
    {
     "name": "stderr",
     "output_type": "stream",
     "text": [
      "Auto-assigning NUTS sampler...\n",
      "Initializing NUTS using jitter+adapt_diag...\n",
      "Multiprocess sampling (4 chains in 4 jobs)\n",
      "NUTS: [a, bl, br, sigma]\n",
      "Sampling 4 chains, 0 divergences: 100%|██████████| 4000/4000 [00:50<00:00, 78.74draws/s] \n"
     ]
    },
    {
     "data": {
      "text/html": [
       "<div>\n",
       "<style scoped>\n",
       "    .dataframe tbody tr th:only-of-type {\n",
       "        vertical-align: middle;\n",
       "    }\n",
       "\n",
       "    .dataframe tbody tr th {\n",
       "        vertical-align: top;\n",
       "    }\n",
       "\n",
       "    .dataframe thead th {\n",
       "        text-align: right;\n",
       "    }\n",
       "</style>\n",
       "<table border=\"1\" class=\"dataframe\">\n",
       "  <thead>\n",
       "    <tr style=\"text-align: right;\">\n",
       "      <th></th>\n",
       "      <th>mean</th>\n",
       "      <th>sd</th>\n",
       "      <th>hpd_3%</th>\n",
       "      <th>hpd_97%</th>\n",
       "      <th>mcse_mean</th>\n",
       "      <th>mcse_sd</th>\n",
       "      <th>ess_mean</th>\n",
       "      <th>ess_sd</th>\n",
       "      <th>ess_bulk</th>\n",
       "      <th>ess_tail</th>\n",
       "      <th>r_hat</th>\n",
       "    </tr>\n",
       "  </thead>\n",
       "  <tbody>\n",
       "    <tr>\n",
       "      <th>a</th>\n",
       "      <td>5.783</td>\n",
       "      <td>0.530</td>\n",
       "      <td>4.799</td>\n",
       "      <td>6.775</td>\n",
       "      <td>0.017</td>\n",
       "      <td>0.012</td>\n",
       "      <td>943.0</td>\n",
       "      <td>939.0</td>\n",
       "      <td>940.0</td>\n",
       "      <td>1089.0</td>\n",
       "      <td>1.0</td>\n",
       "    </tr>\n",
       "    <tr>\n",
       "      <th>bl</th>\n",
       "      <td>-7.613</td>\n",
       "      <td>4.120</td>\n",
       "      <td>-15.819</td>\n",
       "      <td>-0.357</td>\n",
       "      <td>0.162</td>\n",
       "      <td>0.115</td>\n",
       "      <td>645.0</td>\n",
       "      <td>645.0</td>\n",
       "      <td>642.0</td>\n",
       "      <td>747.0</td>\n",
       "      <td>1.0</td>\n",
       "    </tr>\n",
       "    <tr>\n",
       "      <th>br</th>\n",
       "      <td>8.253</td>\n",
       "      <td>4.111</td>\n",
       "      <td>1.033</td>\n",
       "      <td>16.445</td>\n",
       "      <td>0.162</td>\n",
       "      <td>0.114</td>\n",
       "      <td>646.0</td>\n",
       "      <td>646.0</td>\n",
       "      <td>644.0</td>\n",
       "      <td>741.0</td>\n",
       "      <td>1.0</td>\n",
       "    </tr>\n",
       "    <tr>\n",
       "      <th>sigma</th>\n",
       "      <td>1.545</td>\n",
       "      <td>0.108</td>\n",
       "      <td>1.345</td>\n",
       "      <td>1.747</td>\n",
       "      <td>0.003</td>\n",
       "      <td>0.002</td>\n",
       "      <td>1212.0</td>\n",
       "      <td>1198.0</td>\n",
       "      <td>1238.0</td>\n",
       "      <td>1334.0</td>\n",
       "      <td>1.0</td>\n",
       "    </tr>\n",
       "  </tbody>\n",
       "</table>\n",
       "</div>"
      ],
      "text/plain": [
       "        mean     sd  hpd_3%  hpd_97%  mcse_mean  mcse_sd  ess_mean  ess_sd  \\\n",
       "a      5.783  0.530   4.799    6.775      0.017    0.012     943.0   939.0   \n",
       "bl    -7.613  4.120 -15.819   -0.357      0.162    0.115     645.0   645.0   \n",
       "br     8.253  4.111   1.033   16.445      0.162    0.114     646.0   646.0   \n",
       "sigma  1.545  0.108   1.345    1.747      0.003    0.002    1212.0  1198.0   \n",
       "\n",
       "       ess_bulk  ess_tail  r_hat  \n",
       "a         940.0    1089.0    1.0  \n",
       "bl        642.0     747.0    1.0  \n",
       "br        644.0     741.0    1.0  \n",
       "sigma    1238.0    1334.0    1.0  "
      ]
     },
     "execution_count": 5,
     "metadata": {},
     "output_type": "execute_result"
    }
   ],
   "source": [
    "with pm.Model() as m_6_1:\n",
    "    sigma = pm.Exponential(\"sigma\", 1)\n",
    "    br = pm.Normal(\"br\", 2, 10)\n",
    "    bl = pm.Normal(\"bl\", 2, 10)\n",
    "    a = pm.Normal(\"a\", 10, 100)\n",
    "    mu = pm.Deterministic(\"mu\", a + bl*leg_left + br*leg_right)\n",
    "    predicted_height = pm.Normal(\"height\", mu, sigma, observed=height)\n",
    "    \n",
    "    trace_6_1 = pm.sample()\n",
    "    \n",
    "az.summary(trace_6_1, var_names=[\"a\", \"bl\", \"br\", \"sigma\"])\n",
    "    "
   ]
  },
  {
   "cell_type": "markdown",
   "metadata": {},
   "source": [
    "#### 6.4"
   ]
  },
  {
   "cell_type": "code",
   "execution_count": 6,
   "metadata": {},
   "outputs": [
    {
     "data": {
      "image/png": "[encoded data removed]",
      "text/plain": [
       "<Figure size 432x532.8 with 1 Axes>"
      ]
     },
     "metadata": {
      "needs_background": "light"
     },
     "output_type": "display_data"
    }
   ],
   "source": [
    "az.plot_forest(trace_6_1,  var_names=[\"a\", \"bl\", \"br\", \"sigma\"], combined=True);"
   ]
  },
  {
   "cell_type": "markdown",
   "metadata": {},
   "source": [
    "#### 6.5"
   ]
  },
  {
   "cell_type": "code",
   "execution_count": 7,
   "metadata": {},
   "outputs": [
    {
     "name": "stderr",
     "output_type": "stream",
     "text": [
      "100%|██████████| 2000/2000 [00:00<00:00, 35271.15it/s]\n"
     ]
    },
    {
     "data": {
      "text/plain": [
       "array([<matplotlib.axes._subplots.AxesSubplot object at 0x7f8dc15dbdf0>,\n",
       "       <matplotlib.axes._subplots.AxesSubplot object at 0x7f8dc15ff940>,\n",
       "       <matplotlib.axes._subplots.AxesSubplot object at 0x7f8dc0dac850>],\n",
       "      dtype=object)"
      ]
     },
     "execution_count": 7,
     "metadata": {},
     "output_type": "execute_result"
    },
    {
     "data": {
      "image/png": "[encoded data removed]",
      "text/plain": [
       "<Figure size 432x288 with 3 Axes>"
      ]
     },
     "metadata": {
      "needs_background": "light"
     },
     "output_type": "display_data"
    }
   ],
   "source": [
    "with m_6_1:\n",
    "    posterior_predictive_6_1 = pm.sample_posterior_predictive(trace_6_1, var_names=[\"bl\", \"br\"])\n",
    "\n",
    "    # We'll use arviz density plot here for convenience\n",
    "az.plot_joint({\"br\":posterior_predictive_6_1[\"br\"], \"bl\":posterior_predictive_6_1[\"bl\"]})"
   ]
  },
  {
   "cell_type": "markdown",
   "metadata": {},
   "source": [
    "#### 6.6\n",
    "Median doesn't seen to match book"
   ]
  },
  {
   "cell_type": "code",
   "execution_count": 8,
   "metadata": {},
   "outputs": [
    {
     "data": {
      "text/plain": [
       "Text(0.5, 0, 'sum of bl and br')"
      ]
     },
     "execution_count": 8,
     "metadata": {},
     "output_type": "execute_result"
    },
    {
     "data": {
      "image/png": "[encoded data removed]",
      "text/plain": [
       "<Figure size 432x288 with 1 Axes>"
      ]
     },
     "metadata": {
      "needs_background": "light"
     },
     "output_type": "display_data"
    }
   ],
   "source": [
    "sum_blbr = posterior_predictive_6_1[\"br\"] + posterior_predictive_6_1[\"bl\"]\n",
    "ax = az.plot_density(sum_blbr)\n",
    "ax[0].set_xlabel(\"sum of bl and br\")"
   ]
  },
  {
   "cell_type": "markdown",
   "metadata": {},
   "source": [
    "#### 6.7"
   ]
  },
  {
   "cell_type": "code",
   "execution_count": 9,
   "metadata": {},
   "outputs": [
    {
     "name": "stderr",
     "output_type": "stream",
     "text": [
      "Auto-assigning NUTS sampler...\n",
      "Initializing NUTS using jitter+adapt_diag...\n",
      "Multiprocess sampling (4 chains in 4 jobs)\n",
      "NUTS: [a, bl, sigma]\n",
      "Sampling 4 chains, 0 divergences: 100%|██████████| 4000/4000 [00:01<00:00, 2567.65draws/s]\n",
      "The acceptance probability does not match the target. It is 0.893187916799178, but should be close to 0.8. Try to increase the number of tuning steps.\n",
      "The acceptance probability does not match the target. It is 0.8829188721927382, but should be close to 0.8. Try to increase the number of tuning steps.\n"
     ]
    },
    {
     "data": {
      "text/html": [
       "<div>\n",
       "<style scoped>\n",
       "    .dataframe tbody tr th:only-of-type {\n",
       "        vertical-align: middle;\n",
       "    }\n",
       "\n",
       "    .dataframe tbody tr th {\n",
       "        vertical-align: top;\n",
       "    }\n",
       "\n",
       "    .dataframe thead th {\n",
       "        text-align: right;\n",
       "    }\n",
       "</style>\n",
       "<table border=\"1\" class=\"dataframe\">\n",
       "  <thead>\n",
       "    <tr style=\"text-align: right;\">\n",
       "      <th></th>\n",
       "      <th>mean</th>\n",
       "      <th>sd</th>\n",
       "      <th>hpd_3%</th>\n",
       "      <th>hpd_97%</th>\n",
       "      <th>mcse_mean</th>\n",
       "      <th>mcse_sd</th>\n",
       "      <th>ess_mean</th>\n",
       "      <th>ess_sd</th>\n",
       "      <th>ess_bulk</th>\n",
       "      <th>ess_tail</th>\n",
       "      <th>r_hat</th>\n",
       "    </tr>\n",
       "  </thead>\n",
       "  <tbody>\n",
       "    <tr>\n",
       "      <th>a</th>\n",
       "      <td>5.677</td>\n",
       "      <td>0.570</td>\n",
       "      <td>4.658</td>\n",
       "      <td>6.805</td>\n",
       "      <td>0.022</td>\n",
       "      <td>0.016</td>\n",
       "      <td>648.0</td>\n",
       "      <td>644.0</td>\n",
       "      <td>645.0</td>\n",
       "      <td>825.0</td>\n",
       "      <td>1.00</td>\n",
       "    </tr>\n",
       "    <tr>\n",
       "      <th>bl</th>\n",
       "      <td>0.655</td>\n",
       "      <td>0.081</td>\n",
       "      <td>0.517</td>\n",
       "      <td>0.814</td>\n",
       "      <td>0.003</td>\n",
       "      <td>0.002</td>\n",
       "      <td>662.0</td>\n",
       "      <td>662.0</td>\n",
       "      <td>658.0</td>\n",
       "      <td>838.0</td>\n",
       "      <td>1.00</td>\n",
       "    </tr>\n",
       "    <tr>\n",
       "      <th>sigma</th>\n",
       "      <td>1.583</td>\n",
       "      <td>0.119</td>\n",
       "      <td>1.378</td>\n",
       "      <td>1.815</td>\n",
       "      <td>0.004</td>\n",
       "      <td>0.003</td>\n",
       "      <td>812.0</td>\n",
       "      <td>806.0</td>\n",
       "      <td>826.0</td>\n",
       "      <td>751.0</td>\n",
       "      <td>1.01</td>\n",
       "    </tr>\n",
       "  </tbody>\n",
       "</table>\n",
       "</div>"
      ],
      "text/plain": [
       "        mean     sd  hpd_3%  hpd_97%  mcse_mean  mcse_sd  ess_mean  ess_sd  \\\n",
       "a      5.677  0.570   4.658    6.805      0.022    0.016     648.0   644.0   \n",
       "bl     0.655  0.081   0.517    0.814      0.003    0.002     662.0   662.0   \n",
       "sigma  1.583  0.119   1.378    1.815      0.004    0.003     812.0   806.0   \n",
       "\n",
       "       ess_bulk  ess_tail  r_hat  \n",
       "a         645.0     825.0   1.00  \n",
       "bl        658.0     838.0   1.00  \n",
       "sigma     826.0     751.0   1.01  "
      ]
     },
     "execution_count": 9,
     "metadata": {},
     "output_type": "execute_result"
    }
   ],
   "source": [
    "with pm.Model() as m_6_2:\n",
    "    sigma = pm.Exponential(\"sigma\", 1)\n",
    "    bl = pm.Normal(\"bl\", 2, 10)\n",
    "    a = pm.Normal(\"a\", 10, 100)\n",
    "    mu = pm.Deterministic(\"mu\", a + bl*leg_left)\n",
    "    predicted_height = pm.Normal(\"height\", mu, sigma, observed=height)\n",
    "    \n",
    "    trace_6_2 = pm.sample()\n",
    "    \n",
    "az.summary(trace_6_2, var_names=[\"a\", \"bl\", \"sigma\"])"
   ]
  },
  {
   "cell_type": "markdown",
   "metadata": {},
   "source": [
    "#### 6.8"
   ]
  },
  {
   "cell_type": "code",
   "execution_count": 10,
   "metadata": {},
   "outputs": [
    {
     "data": {
      "text/html": [
       "<div>\n",
       "<style scoped>\n",
       "    .dataframe tbody tr th:only-of-type {\n",
       "        vertical-align: middle;\n",
       "    }\n",
       "\n",
       "    .dataframe tbody tr th {\n",
       "        vertical-align: top;\n",
       "    }\n",
       "\n",
       "    .dataframe thead th {\n",
       "        text-align: right;\n",
       "    }\n",
       "</style>\n",
       "<table border=\"1\" class=\"dataframe\">\n",
       "  <thead>\n",
       "    <tr style=\"text-align: right;\">\n",
       "      <th></th>\n",
       "      <th>clade</th>\n",
       "      <th>species</th>\n",
       "      <th>kcal.per.g</th>\n",
       "      <th>perc.fat</th>\n",
       "      <th>perc.protein</th>\n",
       "      <th>perc.lactose</th>\n",
       "      <th>mass</th>\n",
       "      <th>neocortex.perc</th>\n",
       "      <th>K</th>\n",
       "      <th>F</th>\n",
       "      <th>L</th>\n",
       "    </tr>\n",
       "  </thead>\n",
       "  <tbody>\n",
       "    <tr>\n",
       "      <th>0</th>\n",
       "      <td>Strepsirrhine</td>\n",
       "      <td>Eulemur fulvus</td>\n",
       "      <td>0.49</td>\n",
       "      <td>16.60</td>\n",
       "      <td>15.42</td>\n",
       "      <td>67.98</td>\n",
       "      <td>1.95</td>\n",
       "      <td>55.16</td>\n",
       "      <td>-0.940041</td>\n",
       "      <td>-1.217243</td>\n",
       "      <td>1.307262</td>\n",
       "    </tr>\n",
       "    <tr>\n",
       "      <th>1</th>\n",
       "      <td>Strepsirrhine</td>\n",
       "      <td>E macaco</td>\n",
       "      <td>0.51</td>\n",
       "      <td>19.27</td>\n",
       "      <td>16.91</td>\n",
       "      <td>63.82</td>\n",
       "      <td>2.09</td>\n",
       "      <td>NaN</td>\n",
       "      <td>-0.816126</td>\n",
       "      <td>-1.030355</td>\n",
       "      <td>1.011285</td>\n",
       "    </tr>\n",
       "    <tr>\n",
       "      <th>2</th>\n",
       "      <td>Strepsirrhine</td>\n",
       "      <td>E mongoz</td>\n",
       "      <td>0.46</td>\n",
       "      <td>14.11</td>\n",
       "      <td>16.85</td>\n",
       "      <td>69.04</td>\n",
       "      <td>2.51</td>\n",
       "      <td>NaN</td>\n",
       "      <td>-1.125913</td>\n",
       "      <td>-1.391531</td>\n",
       "      <td>1.382679</td>\n",
       "    </tr>\n",
       "    <tr>\n",
       "      <th>3</th>\n",
       "      <td>Strepsirrhine</td>\n",
       "      <td>E rubriventer</td>\n",
       "      <td>0.48</td>\n",
       "      <td>14.91</td>\n",
       "      <td>13.18</td>\n",
       "      <td>71.91</td>\n",
       "      <td>1.62</td>\n",
       "      <td>NaN</td>\n",
       "      <td>-1.001998</td>\n",
       "      <td>-1.335535</td>\n",
       "      <td>1.586874</td>\n",
       "    </tr>\n",
       "    <tr>\n",
       "      <th>4</th>\n",
       "      <td>Strepsirrhine</td>\n",
       "      <td>Lemur catta</td>\n",
       "      <td>0.60</td>\n",
       "      <td>27.28</td>\n",
       "      <td>19.50</td>\n",
       "      <td>53.22</td>\n",
       "      <td>2.19</td>\n",
       "      <td>NaN</td>\n",
       "      <td>-0.258511</td>\n",
       "      <td>-0.469693</td>\n",
       "      <td>0.257115</td>\n",
       "    </tr>\n",
       "  </tbody>\n",
       "</table>\n",
       "</div>"
      ],
      "text/plain": [
       "           clade         species  kcal.per.g  perc.fat  perc.protein  \\\n",
       "0  Strepsirrhine  Eulemur fulvus        0.49     16.60         15.42   \n",
       "1  Strepsirrhine        E macaco        0.51     19.27         16.91   \n",
       "2  Strepsirrhine        E mongoz        0.46     14.11         16.85   \n",
       "3  Strepsirrhine   E rubriventer        0.48     14.91         13.18   \n",
       "4  Strepsirrhine     Lemur catta        0.60     27.28         19.50   \n",
       "\n",
       "   perc.lactose  mass  neocortex.perc         K         F         L  \n",
       "0         67.98  1.95           55.16 -0.940041 -1.217243  1.307262  \n",
       "1         63.82  2.09             NaN -0.816126 -1.030355  1.011285  \n",
       "2         69.04  2.51             NaN -1.125913 -1.391531  1.382679  \n",
       "3         71.91  1.62             NaN -1.001998 -1.335535  1.586874  \n",
       "4         53.22  2.19             NaN -0.258511 -0.469693  0.257115  "
      ]
     },
     "execution_count": 10,
     "metadata": {},
     "output_type": "execute_result"
    }
   ],
   "source": [
    "d = pd.read_csv(os.path.join(\"Data\", \"milk.csv\"), delimiter=\";\")\n",
    "d[\"K\"] = standardize(d[\"kcal.per.g\"])\n",
    "d[\"F\"] = standardize(d[\"perc.fat\"])\n",
    "d[\"L\"] = standardize(d[\"perc.lactose\"])\n",
    "d.head()"
   ]
  },
  {
   "cell_type": "markdown",
   "metadata": {},
   "source": [
    "#### 6.8"
   ]
  },
  {
   "cell_type": "code",
   "execution_count": 11,
   "metadata": {},
   "outputs": [
    {
     "name": "stderr",
     "output_type": "stream",
     "text": [
      "Auto-assigning NUTS sampler...\n",
      "Initializing NUTS using jitter+adapt_diag...\n",
      "Multiprocess sampling (4 chains in 4 jobs)\n",
      "NUTS: [a, bF, sigma]\n",
      "Sampling 4 chains, 0 divergences: 100%|██████████| 4000/4000 [00:00<00:00, 5569.90draws/s]\n",
      "Auto-assigning NUTS sampler...\n",
      "Initializing NUTS using jitter+adapt_diag...\n",
      "Multiprocess sampling (4 chains in 4 jobs)\n",
      "NUTS: [a, bL, sigma]\n",
      "Sampling 4 chains, 0 divergences: 100%|██████████| 4000/4000 [00:00<00:00, 5103.19draws/s]\n"
     ]
    }
   ],
   "source": [
    "with pm.Model() as m_6_3:\n",
    "    sigma = pm.Exponential(\"sigma\", 1)\n",
    "    bF = pm.Normal(\"bF\", 0, 0.5)\n",
    "    a = pm.Normal(\"a\", 0, 0.2)\n",
    "    mu = pm.Deterministic(\"mu\", a + bF*d[\"F\"])\n",
    "    k = pm.Normal(\"K\", mu, sigma, observed=d[\"K\"])\n",
    "    \n",
    "    trace_6_3 = pm.sample()\n",
    "        \n",
    "with pm.Model() as m_6_4:\n",
    "    sigma = pm.Exponential(\"sigma\", 1)\n",
    "    bL = pm.Normal(\"bL\", 0, 0.5)\n",
    "    a = pm.Normal(\"a\", 0, 0.2)\n",
    "    mu = pm.Deterministic(\"mu\", a + bL*d[\"L\"])\n",
    "    k = pm.Normal(\"K\", mu, sigma, observed=d[\"K\"])\n",
    "    \n",
    "    trace_6_4 = pm.sample()\n",
    "    "
   ]
  },
  {
   "cell_type": "code",
   "execution_count": 12,
   "metadata": {},
   "outputs": [
    {
     "data": {
      "text/html": [
       "<div>\n",
       "<style scoped>\n",
       "    .dataframe tbody tr th:only-of-type {\n",
       "        vertical-align: middle;\n",
       "    }\n",
       "\n",
       "    .dataframe tbody tr th {\n",
       "        vertical-align: top;\n",
       "    }\n",
       "\n",
       "    .dataframe thead th {\n",
       "        text-align: right;\n",
       "    }\n",
       "</style>\n",
       "<table border=\"1\" class=\"dataframe\">\n",
       "  <thead>\n",
       "    <tr style=\"text-align: right;\">\n",
       "      <th></th>\n",
       "      <th>mean</th>\n",
       "      <th>sd</th>\n",
       "      <th>hpd_3%</th>\n",
       "      <th>hpd_97%</th>\n",
       "      <th>mcse_mean</th>\n",
       "      <th>mcse_sd</th>\n",
       "      <th>ess_mean</th>\n",
       "      <th>ess_sd</th>\n",
       "      <th>ess_bulk</th>\n",
       "      <th>ess_tail</th>\n",
       "      <th>r_hat</th>\n",
       "    </tr>\n",
       "  </thead>\n",
       "  <tbody>\n",
       "    <tr>\n",
       "      <th>a</th>\n",
       "      <td>0.003</td>\n",
       "      <td>0.084</td>\n",
       "      <td>-0.159</td>\n",
       "      <td>0.149</td>\n",
       "      <td>0.002</td>\n",
       "      <td>0.002</td>\n",
       "      <td>2357.0</td>\n",
       "      <td>1022.0</td>\n",
       "      <td>2375.0</td>\n",
       "      <td>1469.0</td>\n",
       "      <td>1.0</td>\n",
       "    </tr>\n",
       "    <tr>\n",
       "      <th>bF</th>\n",
       "      <td>0.855</td>\n",
       "      <td>0.093</td>\n",
       "      <td>0.680</td>\n",
       "      <td>1.027</td>\n",
       "      <td>0.002</td>\n",
       "      <td>0.001</td>\n",
       "      <td>2171.0</td>\n",
       "      <td>2171.0</td>\n",
       "      <td>2158.0</td>\n",
       "      <td>1310.0</td>\n",
       "      <td>1.0</td>\n",
       "    </tr>\n",
       "    <tr>\n",
       "      <th>sigma</th>\n",
       "      <td>0.488</td>\n",
       "      <td>0.071</td>\n",
       "      <td>0.368</td>\n",
       "      <td>0.620</td>\n",
       "      <td>0.002</td>\n",
       "      <td>0.001</td>\n",
       "      <td>2023.0</td>\n",
       "      <td>1926.0</td>\n",
       "      <td>2127.0</td>\n",
       "      <td>1542.0</td>\n",
       "      <td>1.0</td>\n",
       "    </tr>\n",
       "  </tbody>\n",
       "</table>\n",
       "</div>"
      ],
      "text/plain": [
       "        mean     sd  hpd_3%  hpd_97%  mcse_mean  mcse_sd  ess_mean  ess_sd  \\\n",
       "a      0.003  0.084  -0.159    0.149      0.002    0.002    2357.0  1022.0   \n",
       "bF     0.855  0.093   0.680    1.027      0.002    0.001    2171.0  2171.0   \n",
       "sigma  0.488  0.071   0.368    0.620      0.002    0.001    2023.0  1926.0   \n",
       "\n",
       "       ess_bulk  ess_tail  r_hat  \n",
       "a        2375.0    1469.0    1.0  \n",
       "bF       2158.0    1310.0    1.0  \n",
       "sigma    2127.0    1542.0    1.0  "
      ]
     },
     "execution_count": 12,
     "metadata": {},
     "output_type": "execute_result"
    }
   ],
   "source": [
    "az.summary(trace_6_3, var_names=[\"a\", \"bF\", \"sigma\"])"
   ]
  },
  {
   "cell_type": "code",
   "execution_count": 13,
   "metadata": {},
   "outputs": [
    {
     "data": {
      "text/html": [
       "<div>\n",
       "<style scoped>\n",
       "    .dataframe tbody tr th:only-of-type {\n",
       "        vertical-align: middle;\n",
       "    }\n",
       "\n",
       "    .dataframe tbody tr th {\n",
       "        vertical-align: top;\n",
       "    }\n",
       "\n",
       "    .dataframe thead th {\n",
       "        text-align: right;\n",
       "    }\n",
       "</style>\n",
       "<table border=\"1\" class=\"dataframe\">\n",
       "  <thead>\n",
       "    <tr style=\"text-align: right;\">\n",
       "      <th></th>\n",
       "      <th>mean</th>\n",
       "      <th>sd</th>\n",
       "      <th>hpd_3%</th>\n",
       "      <th>hpd_97%</th>\n",
       "      <th>mcse_mean</th>\n",
       "      <th>mcse_sd</th>\n",
       "      <th>ess_mean</th>\n",
       "      <th>ess_sd</th>\n",
       "      <th>ess_bulk</th>\n",
       "      <th>ess_tail</th>\n",
       "      <th>r_hat</th>\n",
       "    </tr>\n",
       "  </thead>\n",
       "  <tbody>\n",
       "    <tr>\n",
       "      <th>a</th>\n",
       "      <td>0.003</td>\n",
       "      <td>0.073</td>\n",
       "      <td>-0.130</td>\n",
       "      <td>0.142</td>\n",
       "      <td>0.002</td>\n",
       "      <td>0.002</td>\n",
       "      <td>2156.0</td>\n",
       "      <td>759.0</td>\n",
       "      <td>2161.0</td>\n",
       "      <td>1301.0</td>\n",
       "      <td>1.0</td>\n",
       "    </tr>\n",
       "    <tr>\n",
       "      <th>bL</th>\n",
       "      <td>-0.900</td>\n",
       "      <td>0.075</td>\n",
       "      <td>-1.035</td>\n",
       "      <td>-0.760</td>\n",
       "      <td>0.002</td>\n",
       "      <td>0.001</td>\n",
       "      <td>2384.0</td>\n",
       "      <td>2384.0</td>\n",
       "      <td>2382.0</td>\n",
       "      <td>1475.0</td>\n",
       "      <td>1.0</td>\n",
       "    </tr>\n",
       "    <tr>\n",
       "      <th>sigma</th>\n",
       "      <td>0.410</td>\n",
       "      <td>0.055</td>\n",
       "      <td>0.317</td>\n",
       "      <td>0.513</td>\n",
       "      <td>0.001</td>\n",
       "      <td>0.001</td>\n",
       "      <td>2250.0</td>\n",
       "      <td>2228.0</td>\n",
       "      <td>2183.0</td>\n",
       "      <td>1373.0</td>\n",
       "      <td>1.0</td>\n",
       "    </tr>\n",
       "  </tbody>\n",
       "</table>\n",
       "</div>"
      ],
      "text/plain": [
       "        mean     sd  hpd_3%  hpd_97%  mcse_mean  mcse_sd  ess_mean  ess_sd  \\\n",
       "a      0.003  0.073  -0.130    0.142      0.002    0.002    2156.0   759.0   \n",
       "bL    -0.900  0.075  -1.035   -0.760      0.002    0.001    2384.0  2384.0   \n",
       "sigma  0.410  0.055   0.317    0.513      0.001    0.001    2250.0  2228.0   \n",
       "\n",
       "       ess_bulk  ess_tail  r_hat  \n",
       "a        2161.0    1301.0    1.0  \n",
       "bL       2382.0    1475.0    1.0  \n",
       "sigma    2183.0    1373.0    1.0  "
      ]
     },
     "execution_count": 13,
     "metadata": {},
     "output_type": "execute_result"
    }
   ],
   "source": [
    "az.summary(trace_6_4, var_names=[\"a\", \"bL\", \"sigma\"])"
   ]
  },
  {
   "cell_type": "markdown",
   "metadata": {},
   "source": [
    "#### 6.10"
   ]
  },
  {
   "cell_type": "code",
   "execution_count": 14,
   "metadata": {},
   "outputs": [
    {
     "name": "stderr",
     "output_type": "stream",
     "text": [
      "Auto-assigning NUTS sampler...\n",
      "Initializing NUTS using jitter+adapt_diag...\n",
      "Multiprocess sampling (4 chains in 4 jobs)\n",
      "NUTS: [a, bF, bL, sigma]\n",
      "Sampling 4 chains, 0 divergences: 100%|██████████| 4000/4000 [00:01<00:00, 3031.99draws/s]\n",
      "The acceptance probability does not match the target. It is 0.8811619106787664, but should be close to 0.8. Try to increase the number of tuning steps.\n",
      "The acceptance probability does not match the target. It is 0.8795050768789507, but should be close to 0.8. Try to increase the number of tuning steps.\n",
      "The acceptance probability does not match the target. It is 0.8800246670561849, but should be close to 0.8. Try to increase the number of tuning steps.\n"
     ]
    }
   ],
   "source": [
    "with pm.Model() as m_6_4:\n",
    "    sigma = pm.Exponential(\"sigma\", 1)\n",
    "    bL = pm.Normal(\"bL\", 0, 0.5)\n",
    "    bF = pm.Normal(\"bF\", 0, 0.5)\n",
    "    a = pm.Normal(\"a\", 0, 0.2)\n",
    "    mu = pm.Deterministic(\"mu\", a + bL*d[\"L\"] + bF*d[\"F\"])\n",
    "    k = pm.Normal(\"K\", mu, sigma, observed=d[\"K\"])\n",
    "    \n",
    "    trace_6_5 = pm.sample()\n",
    "    "
   ]
  },
  {
   "cell_type": "code",
   "execution_count": 15,
   "metadata": {},
   "outputs": [
    {
     "data": {
      "text/html": [
       "<div>\n",
       "<style scoped>\n",
       "    .dataframe tbody tr th:only-of-type {\n",
       "        vertical-align: middle;\n",
       "    }\n",
       "\n",
       "    .dataframe tbody tr th {\n",
       "        vertical-align: top;\n",
       "    }\n",
       "\n",
       "    .dataframe thead th {\n",
       "        text-align: right;\n",
       "    }\n",
       "</style>\n",
       "<table border=\"1\" class=\"dataframe\">\n",
       "  <thead>\n",
       "    <tr style=\"text-align: right;\">\n",
       "      <th></th>\n",
       "      <th>mean</th>\n",
       "      <th>sd</th>\n",
       "      <th>hpd_3%</th>\n",
       "      <th>hpd_97%</th>\n",
       "      <th>mcse_mean</th>\n",
       "      <th>mcse_sd</th>\n",
       "      <th>ess_mean</th>\n",
       "      <th>ess_sd</th>\n",
       "      <th>ess_bulk</th>\n",
       "      <th>ess_tail</th>\n",
       "      <th>r_hat</th>\n",
       "    </tr>\n",
       "  </thead>\n",
       "  <tbody>\n",
       "    <tr>\n",
       "      <th>a</th>\n",
       "      <td>-0.001</td>\n",
       "      <td>0.070</td>\n",
       "      <td>-0.123</td>\n",
       "      <td>0.133</td>\n",
       "      <td>0.002</td>\n",
       "      <td>0.002</td>\n",
       "      <td>1275.0</td>\n",
       "      <td>1027.0</td>\n",
       "      <td>1290.0</td>\n",
       "      <td>1318.0</td>\n",
       "      <td>1.01</td>\n",
       "    </tr>\n",
       "    <tr>\n",
       "      <th>bF</th>\n",
       "      <td>0.259</td>\n",
       "      <td>0.202</td>\n",
       "      <td>-0.093</td>\n",
       "      <td>0.666</td>\n",
       "      <td>0.008</td>\n",
       "      <td>0.006</td>\n",
       "      <td>581.0</td>\n",
       "      <td>581.0</td>\n",
       "      <td>585.0</td>\n",
       "      <td>848.0</td>\n",
       "      <td>1.00</td>\n",
       "    </tr>\n",
       "    <tr>\n",
       "      <th>bL</th>\n",
       "      <td>-0.663</td>\n",
       "      <td>0.204</td>\n",
       "      <td>-1.044</td>\n",
       "      <td>-0.297</td>\n",
       "      <td>0.008</td>\n",
       "      <td>0.006</td>\n",
       "      <td>606.0</td>\n",
       "      <td>606.0</td>\n",
       "      <td>611.0</td>\n",
       "      <td>922.0</td>\n",
       "      <td>1.01</td>\n",
       "    </tr>\n",
       "    <tr>\n",
       "      <th>sigma</th>\n",
       "      <td>0.413</td>\n",
       "      <td>0.057</td>\n",
       "      <td>0.315</td>\n",
       "      <td>0.519</td>\n",
       "      <td>0.002</td>\n",
       "      <td>0.001</td>\n",
       "      <td>1125.0</td>\n",
       "      <td>1125.0</td>\n",
       "      <td>1087.0</td>\n",
       "      <td>1050.0</td>\n",
       "      <td>1.00</td>\n",
       "    </tr>\n",
       "  </tbody>\n",
       "</table>\n",
       "</div>"
      ],
      "text/plain": [
       "        mean     sd  hpd_3%  hpd_97%  mcse_mean  mcse_sd  ess_mean  ess_sd  \\\n",
       "a     -0.001  0.070  -0.123    0.133      0.002    0.002    1275.0  1027.0   \n",
       "bF     0.259  0.202  -0.093    0.666      0.008    0.006     581.0   581.0   \n",
       "bL    -0.663  0.204  -1.044   -0.297      0.008    0.006     606.0   606.0   \n",
       "sigma  0.413  0.057   0.315    0.519      0.002    0.001    1125.0  1125.0   \n",
       "\n",
       "       ess_bulk  ess_tail  r_hat  \n",
       "a        1290.0    1318.0   1.01  \n",
       "bF        585.0     848.0   1.00  \n",
       "bL        611.0     922.0   1.01  \n",
       "sigma    1087.0    1050.0   1.00  "
      ]
     },
     "execution_count": 15,
     "metadata": {},
     "output_type": "execute_result"
    }
   ],
   "source": [
    "az.summary(trace_6_5, var_names=[\"a\", \"bF\", \"bL\", \"sigma\"])"
   ]
  },
  {
   "cell_type": "markdown",
   "metadata": {},
   "source": [
    "#### 6.11"
   ]
  },
  {
   "cell_type": "code",
   "execution_count": 16,
   "metadata": {},
   "outputs": [
    {
     "data": {
      "image/png": "[encoded data removed]",
      "text/plain": [
       "<Figure size 432x288 with 4 Axes>"
      ]
     },
     "metadata": {
      "needs_background": "light"
     },
     "output_type": "display_data"
    }
   ],
   "source": [
    "az.plot_pair(d[['kcal.per.g','perc.fat','perc.lactose']].to_dict(orient=\"list\"));"
   ]
  },
  {
   "cell_type": "markdown",
   "metadata": {},
   "source": [
    "#### 6.12"
   ]
  },
  {
   "cell_type": "code",
   "execution_count": 17,
   "metadata": {},
   "outputs": [
    {
     "data": {
      "image/png": "[encoded data removed]",
      "text/plain": [
       "<Figure size 432x288 with 1 Axes>"
      ]
     },
     "metadata": {
      "needs_background": "light"
     },
     "output_type": "display_data"
    }
   ],
   "source": [
    "def simcoll(r = 0.9):\n",
    "    d['x'] = stats.norm.rvs(size=len(d), loc = r * d['perc.fat'],\n",
    "                       scale = np.sqrt((1 - r**2) * d['perc.fat'].var()))\n",
    "    X = np.column_stack((d['perc.fat'], d['x']))\n",
    "    m = linear_model.OLS(d['kcal.per.g'], X).fit()\n",
    "    cov = m.cov_params()\n",
    "    return (np.diag(cov)[1])**0.5\n",
    "    \n",
    "def repsimcoll(r= 0.9, N = 100):\n",
    "    stddev = [simcoll(r) for _ in range(N)]\n",
    "    return np.mean(stddev)\n",
    "\n",
    "lista = []\n",
    "for i in np.arange(start = 0, stop = 0.99, step = 0.01):   \n",
    "    lista.append(repsimcoll (r= i, N = 100))\n",
    "\n",
    "plt.plot(np.arange(start = 0, stop = 0.99, step = 0.01), lista)\n",
    "plt.xlabel('correlation', fontsize=14)\n",
    "plt.ylabel('stddev', fontsize=14);"
   ]
  },
  {
   "cell_type": "markdown",
   "metadata": {},
   "source": [
    "#### 6.13"
   ]
  },
  {
   "cell_type": "code",
   "execution_count": 18,
   "metadata": {},
   "outputs": [
    {
     "data": {
      "text/html": [
       "<div>\n",
       "<style scoped>\n",
       "    .dataframe tbody tr th:only-of-type {\n",
       "        vertical-align: middle;\n",
       "    }\n",
       "\n",
       "    .dataframe tbody tr th {\n",
       "        vertical-align: top;\n",
       "    }\n",
       "\n",
       "    .dataframe thead th {\n",
       "        text-align: right;\n",
       "    }\n",
       "</style>\n",
       "<table border=\"1\" class=\"dataframe\">\n",
       "  <thead>\n",
       "    <tr style=\"text-align: right;\">\n",
       "      <th></th>\n",
       "      <th>mean</th>\n",
       "      <th>sd</th>\n",
       "      <th>hpd_3%</th>\n",
       "      <th>hpd_97%</th>\n",
       "    </tr>\n",
       "  </thead>\n",
       "  <tbody>\n",
       "    <tr>\n",
       "      <th>h0</th>\n",
       "      <td>10.152</td>\n",
       "      <td>1.667</td>\n",
       "      <td>7.088</td>\n",
       "      <td>13.146</td>\n",
       "    </tr>\n",
       "    <tr>\n",
       "      <th>h1</th>\n",
       "      <td>14.523</td>\n",
       "      <td>2.299</td>\n",
       "      <td>10.138</td>\n",
       "      <td>18.535</td>\n",
       "    </tr>\n",
       "    <tr>\n",
       "      <th>treatment</th>\n",
       "      <td>0.500</td>\n",
       "      <td>0.503</td>\n",
       "      <td>0.000</td>\n",
       "      <td>1.000</td>\n",
       "    </tr>\n",
       "    <tr>\n",
       "      <th>fungus</th>\n",
       "      <td>0.270</td>\n",
       "      <td>0.446</td>\n",
       "      <td>0.000</td>\n",
       "      <td>1.000</td>\n",
       "    </tr>\n",
       "  </tbody>\n",
       "</table>\n",
       "</div>"
      ],
      "text/plain": [
       "             mean     sd  hpd_3%  hpd_97%\n",
       "h0         10.152  1.667   7.088   13.146\n",
       "h1         14.523  2.299  10.138   18.535\n",
       "treatment   0.500  0.503   0.000    1.000\n",
       "fungus      0.270  0.446   0.000    1.000"
      ]
     },
     "execution_count": 18,
     "metadata": {},
     "output_type": "execute_result"
    }
   ],
   "source": [
    "np.random.seed(71)\n",
    "# Number of plans\n",
    "\n",
    "N = 100\n",
    "\n",
    "# Simuate initial heights\n",
    "h0 = stats.norm(10,2).rvs(N)\n",
    "\n",
    "# assign treatments and simulate fungus and growth\n",
    "treatment = np.tile([0,1], int(N/2))\n",
    "fungus = stats.binom(n=1, p= (.5 - treatment*.4)).rvs(N)\n",
    "h1 = h0 + stats.norm(5-3*fungus).rvs(N)\n",
    "\n",
    "# compose a clean data frame\n",
    "d = {\"h0\":h0, \"h1\":h1, \"treatment\":treatment, \"fungus\":fungus}\n",
    "az.summary(d, kind=\"stats\")"
   ]
  },
  {
   "cell_type": "markdown",
   "metadata": {},
   "source": [
    "#### 6.14\n",
    "Figure out how to compute the lognormal of things"
   ]
  },
  {
   "cell_type": "code",
   "execution_count": 19,
   "metadata": {},
   "outputs": [
    {
     "ename": "TypeError",
     "evalue": "_parse_args() got an unexpected keyword argument 'x'",
     "output_type": "error",
     "traceback": [
      "\u001b[0;31m---------------------------------------------------------------------------\u001b[0m",
      "\u001b[0;31mTypeError\u001b[0m                                 Traceback (most recent call last)",
      "\u001b[0;32m<ipython-input-19-a069f94c79a3>\u001b[0m in \u001b[0;36m<module>\u001b[0;34m\u001b[0m\n\u001b[0;32m----> 1\u001b[0;31m \u001b[0msim_p\u001b[0m \u001b[0;34m=\u001b[0m \u001b[0mstats\u001b[0m\u001b[0;34m.\u001b[0m\u001b[0mlognorm\u001b[0m\u001b[0;34m(\u001b[0m\u001b[0mx\u001b[0m\u001b[0;34m=\u001b[0m\u001b[0;36m0\u001b[0m\u001b[0;34m,\u001b[0m \u001b[0ms\u001b[0m\u001b[0;34m=\u001b[0m\u001b[0;36m.25\u001b[0m\u001b[0;34m)\u001b[0m\u001b[0;34m.\u001b[0m\u001b[0mrvs\u001b[0m\u001b[0;34m(\u001b[0m\u001b[0;36m10000\u001b[0m\u001b[0;34m)\u001b[0m\u001b[0;34m\u001b[0m\u001b[0;34m\u001b[0m\u001b[0m\n\u001b[0m\u001b[1;32m      2\u001b[0m \u001b[0maz\u001b[0m\u001b[0;34m.\u001b[0m\u001b[0msummary\u001b[0m\u001b[0;34m(\u001b[0m\u001b[0msim_p\u001b[0m\u001b[0;34m,\u001b[0m \u001b[0mkind\u001b[0m\u001b[0;34m=\u001b[0m\u001b[0;34m\"stats\"\u001b[0m\u001b[0;34m)\u001b[0m\u001b[0;34m\u001b[0m\u001b[0;34m\u001b[0m\u001b[0m\n",
      "\u001b[0;32m~/miniconda3/envs/resources/lib/python3.8/site-packages/scipy/stats/_distn_infrastructure.py\u001b[0m in \u001b[0;36m__call__\u001b[0;34m(self, *args, **kwds)\u001b[0m\n\u001b[1;32m    769\u001b[0m \u001b[0;34m\u001b[0m\u001b[0m\n\u001b[1;32m    770\u001b[0m     \u001b[0;32mdef\u001b[0m \u001b[0m__call__\u001b[0m\u001b[0;34m(\u001b[0m\u001b[0mself\u001b[0m\u001b[0;34m,\u001b[0m \u001b[0;34m*\u001b[0m\u001b[0margs\u001b[0m\u001b[0;34m,\u001b[0m \u001b[0;34m**\u001b[0m\u001b[0mkwds\u001b[0m\u001b[0;34m)\u001b[0m\u001b[0;34m:\u001b[0m\u001b[0;34m\u001b[0m\u001b[0;34m\u001b[0m\u001b[0m\n\u001b[0;32m--> 771\u001b[0;31m         \u001b[0;32mreturn\u001b[0m \u001b[0mself\u001b[0m\u001b[0;34m.\u001b[0m\u001b[0mfreeze\u001b[0m\u001b[0;34m(\u001b[0m\u001b[0;34m*\u001b[0m\u001b[0margs\u001b[0m\u001b[0;34m,\u001b[0m \u001b[0;34m**\u001b[0m\u001b[0mkwds\u001b[0m\u001b[0;34m)\u001b[0m\u001b[0;34m\u001b[0m\u001b[0;34m\u001b[0m\u001b[0m\n\u001b[0m\u001b[1;32m    772\u001b[0m     \u001b[0m__call__\u001b[0m\u001b[0;34m.\u001b[0m\u001b[0m__doc__\u001b[0m \u001b[0;34m=\u001b[0m \u001b[0mfreeze\u001b[0m\u001b[0;34m.\u001b[0m\u001b[0m__doc__\u001b[0m\u001b[0;34m\u001b[0m\u001b[0;34m\u001b[0m\u001b[0m\n\u001b[1;32m    773\u001b[0m \u001b[0;34m\u001b[0m\u001b[0m\n",
      "\u001b[0;32m~/miniconda3/envs/resources/lib/python3.8/site-packages/scipy/stats/_distn_infrastructure.py\u001b[0m in \u001b[0;36mfreeze\u001b[0;34m(self, *args, **kwds)\u001b[0m\n\u001b[1;32m    766\u001b[0m \u001b[0;34m\u001b[0m\u001b[0m\n\u001b[1;32m    767\u001b[0m         \"\"\"\n\u001b[0;32m--> 768\u001b[0;31m         \u001b[0;32mreturn\u001b[0m \u001b[0mrv_frozen\u001b[0m\u001b[0;34m(\u001b[0m\u001b[0mself\u001b[0m\u001b[0;34m,\u001b[0m \u001b[0;34m*\u001b[0m\u001b[0margs\u001b[0m\u001b[0;34m,\u001b[0m \u001b[0;34m**\u001b[0m\u001b[0mkwds\u001b[0m\u001b[0;34m)\u001b[0m\u001b[0;34m\u001b[0m\u001b[0;34m\u001b[0m\u001b[0m\n\u001b[0m\u001b[1;32m    769\u001b[0m \u001b[0;34m\u001b[0m\u001b[0m\n\u001b[1;32m    770\u001b[0m     \u001b[0;32mdef\u001b[0m \u001b[0m__call__\u001b[0m\u001b[0;34m(\u001b[0m\u001b[0mself\u001b[0m\u001b[0;34m,\u001b[0m \u001b[0;34m*\u001b[0m\u001b[0margs\u001b[0m\u001b[0;34m,\u001b[0m \u001b[0;34m**\u001b[0m\u001b[0mkwds\u001b[0m\u001b[0;34m)\u001b[0m\u001b[0;34m:\u001b[0m\u001b[0;34m\u001b[0m\u001b[0;34m\u001b[0m\u001b[0m\n",
      "\u001b[0;32m~/miniconda3/envs/resources/lib/python3.8/site-packages/scipy/stats/_distn_infrastructure.py\u001b[0m in \u001b[0;36m__init__\u001b[0;34m(self, dist, *args, **kwds)\u001b[0m\n\u001b[1;32m    428\u001b[0m         \u001b[0mself\u001b[0m\u001b[0;34m.\u001b[0m\u001b[0mdist\u001b[0m \u001b[0;34m=\u001b[0m \u001b[0mdist\u001b[0m\u001b[0;34m.\u001b[0m\u001b[0m__class__\u001b[0m\u001b[0;34m(\u001b[0m\u001b[0;34m**\u001b[0m\u001b[0mdist\u001b[0m\u001b[0;34m.\u001b[0m\u001b[0m_updated_ctor_param\u001b[0m\u001b[0;34m(\u001b[0m\u001b[0;34m)\u001b[0m\u001b[0;34m)\u001b[0m\u001b[0;34m\u001b[0m\u001b[0;34m\u001b[0m\u001b[0m\n\u001b[1;32m    429\u001b[0m \u001b[0;34m\u001b[0m\u001b[0m\n\u001b[0;32m--> 430\u001b[0;31m         \u001b[0mshapes\u001b[0m\u001b[0;34m,\u001b[0m \u001b[0m_\u001b[0m\u001b[0;34m,\u001b[0m \u001b[0m_\u001b[0m \u001b[0;34m=\u001b[0m \u001b[0mself\u001b[0m\u001b[0;34m.\u001b[0m\u001b[0mdist\u001b[0m\u001b[0;34m.\u001b[0m\u001b[0m_parse_args\u001b[0m\u001b[0;34m(\u001b[0m\u001b[0;34m*\u001b[0m\u001b[0margs\u001b[0m\u001b[0;34m,\u001b[0m \u001b[0;34m**\u001b[0m\u001b[0mkwds\u001b[0m\u001b[0;34m)\u001b[0m\u001b[0;34m\u001b[0m\u001b[0;34m\u001b[0m\u001b[0m\n\u001b[0m\u001b[1;32m    431\u001b[0m         \u001b[0mself\u001b[0m\u001b[0;34m.\u001b[0m\u001b[0mdist\u001b[0m\u001b[0;34m.\u001b[0m\u001b[0m_argcheck\u001b[0m\u001b[0;34m(\u001b[0m\u001b[0;34m*\u001b[0m\u001b[0mshapes\u001b[0m\u001b[0;34m)\u001b[0m\u001b[0;34m\u001b[0m\u001b[0;34m\u001b[0m\u001b[0m\n\u001b[1;32m    432\u001b[0m         \u001b[0mself\u001b[0m\u001b[0;34m.\u001b[0m\u001b[0ma\u001b[0m\u001b[0;34m,\u001b[0m \u001b[0mself\u001b[0m\u001b[0;34m.\u001b[0m\u001b[0mb\u001b[0m \u001b[0;34m=\u001b[0m \u001b[0mself\u001b[0m\u001b[0;34m.\u001b[0m\u001b[0mdist\u001b[0m\u001b[0;34m.\u001b[0m\u001b[0m_get_support\u001b[0m\u001b[0;34m(\u001b[0m\u001b[0;34m*\u001b[0m\u001b[0mshapes\u001b[0m\u001b[0;34m)\u001b[0m\u001b[0;34m\u001b[0m\u001b[0;34m\u001b[0m\u001b[0m\n",
      "\u001b[0;31mTypeError\u001b[0m: _parse_args() got an unexpected keyword argument 'x'"
     ]
    }
   ],
   "source": [
    "sim_p = stats.lognorm(x=0, s=.25).rvs(10000)\n",
    "az.summary(sim_p, kind=\"stats\")"
   ]
  },
  {
   "cell_type": "markdown",
   "metadata": {},
   "source": [
    "#### 6.15"
   ]
  },
  {
   "cell_type": "code",
   "execution_count": 20,
   "metadata": {},
   "outputs": [
    {
     "name": "stderr",
     "output_type": "stream",
     "text": [
      "Auto-assigning NUTS sampler...\n",
      "Initializing NUTS using jitter+adapt_diag...\n",
      "Multiprocess sampling (4 chains in 4 jobs)\n",
      "NUTS: [p, sigma]\n",
      "Sampling 4 chains, 0 divergences: 100%|██████████| 4000/4000 [00:00<00:00, 6076.01draws/s]\n"
     ]
    },
    {
     "data": {
      "text/html": [
       "<div>\n",
       "<style scoped>\n",
       "    .dataframe tbody tr th:only-of-type {\n",
       "        vertical-align: middle;\n",
       "    }\n",
       "\n",
       "    .dataframe tbody tr th {\n",
       "        vertical-align: top;\n",
       "    }\n",
       "\n",
       "    .dataframe thead th {\n",
       "        text-align: right;\n",
       "    }\n",
       "</style>\n",
       "<table border=\"1\" class=\"dataframe\">\n",
       "  <thead>\n",
       "    <tr style=\"text-align: right;\">\n",
       "      <th></th>\n",
       "      <th>mean</th>\n",
       "      <th>sd</th>\n",
       "      <th>hpd_3%</th>\n",
       "      <th>hpd_97%</th>\n",
       "      <th>mcse_mean</th>\n",
       "      <th>mcse_sd</th>\n",
       "      <th>ess_mean</th>\n",
       "      <th>ess_sd</th>\n",
       "      <th>ess_bulk</th>\n",
       "      <th>ess_tail</th>\n",
       "      <th>r_hat</th>\n",
       "    </tr>\n",
       "  </thead>\n",
       "  <tbody>\n",
       "    <tr>\n",
       "      <th>p</th>\n",
       "      <td>1.416</td>\n",
       "      <td>0.018</td>\n",
       "      <td>1.382</td>\n",
       "      <td>1.451</td>\n",
       "      <td>0.000</td>\n",
       "      <td>0.000</td>\n",
       "      <td>1740.0</td>\n",
       "      <td>1738.0</td>\n",
       "      <td>1783.0</td>\n",
       "      <td>862.0</td>\n",
       "      <td>1.0</td>\n",
       "    </tr>\n",
       "    <tr>\n",
       "      <th>sigma</th>\n",
       "      <td>1.846</td>\n",
       "      <td>0.135</td>\n",
       "      <td>1.587</td>\n",
       "      <td>2.081</td>\n",
       "      <td>0.003</td>\n",
       "      <td>0.002</td>\n",
       "      <td>1778.0</td>\n",
       "      <td>1778.0</td>\n",
       "      <td>1757.0</td>\n",
       "      <td>1110.0</td>\n",
       "      <td>1.0</td>\n",
       "    </tr>\n",
       "  </tbody>\n",
       "</table>\n",
       "</div>"
      ],
      "text/plain": [
       "        mean     sd  hpd_3%  hpd_97%  mcse_mean  mcse_sd  ess_mean  ess_sd  \\\n",
       "p      1.416  0.018   1.382    1.451      0.000    0.000    1740.0  1738.0   \n",
       "sigma  1.846  0.135   1.587    2.081      0.003    0.002    1778.0  1778.0   \n",
       "\n",
       "       ess_bulk  ess_tail  r_hat  \n",
       "p        1783.0     862.0    1.0  \n",
       "sigma    1757.0    1110.0    1.0  "
      ]
     },
     "execution_count": 20,
     "metadata": {},
     "output_type": "execute_result"
    }
   ],
   "source": [
    "with pm.Model() as m6_6:\n",
    "    sigma = pm.Exponential(\"sigma\", 1)\n",
    "    p = pm.Lognormal(\"p\", 0, .25)\n",
    "    mu = h0*p\n",
    "    h1 = pm.Normal(\"h1\", mu=mu, sigma=sigma, observed = d[\"h1\"])\n",
    "    \n",
    "    trace_m6_6 = pm.sample()\n",
    "az.summary(trace_m6_6, var_names=[\"p\", \"sigma\"])"
   ]
  },
  {
   "cell_type": "markdown",
   "metadata": {},
   "source": [
    "#### 6.16"
   ]
  },
  {
   "cell_type": "code",
   "execution_count": 21,
   "metadata": {},
   "outputs": [
    {
     "name": "stderr",
     "output_type": "stream",
     "text": [
      "Auto-assigning NUTS sampler...\n",
      "Initializing NUTS using jitter+adapt_diag...\n",
      "Multiprocess sampling (4 chains in 4 jobs)\n",
      "NUTS: [a, bf, bt, sigma]\n",
      "Sampling 4 chains, 0 divergences: 100%|██████████| 4000/4000 [00:01<00:00, 3315.58draws/s]\n",
      "The acceptance probability does not match the target. It is 0.8804160467341139, but should be close to 0.8. Try to increase the number of tuning steps.\n",
      "The acceptance probability does not match the target. It is 0.8839655577695902, but should be close to 0.8. Try to increase the number of tuning steps.\n",
      "The acceptance probability does not match the target. It is 0.8801427113923642, but should be close to 0.8. Try to increase the number of tuning steps.\n"
     ]
    },
    {
     "data": {
      "text/html": [
       "<div>\n",
       "<style scoped>\n",
       "    .dataframe tbody tr th:only-of-type {\n",
       "        vertical-align: middle;\n",
       "    }\n",
       "\n",
       "    .dataframe tbody tr th {\n",
       "        vertical-align: top;\n",
       "    }\n",
       "\n",
       "    .dataframe thead th {\n",
       "        text-align: right;\n",
       "    }\n",
       "</style>\n",
       "<table border=\"1\" class=\"dataframe\">\n",
       "  <thead>\n",
       "    <tr style=\"text-align: right;\">\n",
       "      <th></th>\n",
       "      <th>mean</th>\n",
       "      <th>sd</th>\n",
       "      <th>hpd_3%</th>\n",
       "      <th>hpd_97%</th>\n",
       "    </tr>\n",
       "  </thead>\n",
       "  <tbody>\n",
       "    <tr>\n",
       "      <th>bt</th>\n",
       "      <td>0.006</td>\n",
       "      <td>0.030</td>\n",
       "      <td>-0.047</td>\n",
       "      <td>0.065</td>\n",
       "    </tr>\n",
       "    <tr>\n",
       "      <th>bf</th>\n",
       "      <td>-0.285</td>\n",
       "      <td>0.032</td>\n",
       "      <td>-0.343</td>\n",
       "      <td>-0.224</td>\n",
       "    </tr>\n",
       "    <tr>\n",
       "      <th>sigma</th>\n",
       "      <td>1.279</td>\n",
       "      <td>0.090</td>\n",
       "      <td>1.113</td>\n",
       "      <td>1.450</td>\n",
       "    </tr>\n",
       "    <tr>\n",
       "      <th>a</th>\n",
       "      <td>1.495</td>\n",
       "      <td>0.024</td>\n",
       "      <td>1.452</td>\n",
       "      <td>1.541</td>\n",
       "    </tr>\n",
       "  </tbody>\n",
       "</table>\n",
       "</div>"
      ],
      "text/plain": [
       "        mean     sd  hpd_3%  hpd_97%\n",
       "bt     0.006  0.030  -0.047    0.065\n",
       "bf    -0.285  0.032  -0.343   -0.224\n",
       "sigma  1.279  0.090   1.113    1.450\n",
       "a      1.495  0.024   1.452    1.541"
      ]
     },
     "execution_count": 21,
     "metadata": {},
     "output_type": "execute_result"
    }
   ],
   "source": [
    "with pm.Model() as m6_7:\n",
    "    \n",
    "    sigma = pm.Exponential(\"sigma\", 1)\n",
    "    bt = pm.Normal(\"bt\", 0, .5)\n",
    "    bf = pm.Normal(\"bf\", 0, .5)\n",
    "    a = pm.Lognormal(\"a\", 0, .5)\n",
    "    p = a + bt*d[\"treatment\"] + bf*d[\"fungus\"]\n",
    "    mu = h0*p\n",
    "    h1 = pm.Normal(\"h1\", mu=mu, sigma=sigma, observed = d[\"h1\"])\n",
    "    \n",
    "    trace_m6_7= pm.sample()\n",
    "az.summary(trace_m6_7, kind=\"stats\")"
   ]
  },
  {
   "cell_type": "markdown",
   "metadata": {},
   "source": [
    "#### 6.17\n",
    "For some reason bt is different than book"
   ]
  },
  {
   "cell_type": "code",
   "execution_count": 22,
   "metadata": {},
   "outputs": [
    {
     "name": "stderr",
     "output_type": "stream",
     "text": [
      "Auto-assigning NUTS sampler...\n",
      "Initializing NUTS using jitter+adapt_diag...\n",
      "Multiprocess sampling (4 chains in 4 jobs)\n",
      "NUTS: [a, bt, sigma]\n",
      "Sampling 4 chains, 0 divergences: 100%|██████████| 4000/4000 [00:00<00:00, 4354.57draws/s]\n",
      "The acceptance probability does not match the target. It is 0.8801893154643159, but should be close to 0.8. Try to increase the number of tuning steps.\n"
     ]
    },
    {
     "data": {
      "text/html": [
       "<div>\n",
       "<style scoped>\n",
       "    .dataframe tbody tr th:only-of-type {\n",
       "        vertical-align: middle;\n",
       "    }\n",
       "\n",
       "    .dataframe tbody tr th {\n",
       "        vertical-align: top;\n",
       "    }\n",
       "\n",
       "    .dataframe thead th {\n",
       "        text-align: right;\n",
       "    }\n",
       "</style>\n",
       "<table border=\"1\" class=\"dataframe\">\n",
       "  <thead>\n",
       "    <tr style=\"text-align: right;\">\n",
       "      <th></th>\n",
       "      <th>mean</th>\n",
       "      <th>sd</th>\n",
       "      <th>hpd_3%</th>\n",
       "      <th>hpd_97%</th>\n",
       "    </tr>\n",
       "  </thead>\n",
       "  <tbody>\n",
       "    <tr>\n",
       "      <th>bt</th>\n",
       "      <td>0.123</td>\n",
       "      <td>0.035</td>\n",
       "      <td>0.059</td>\n",
       "      <td>0.193</td>\n",
       "    </tr>\n",
       "    <tr>\n",
       "      <th>sigma</th>\n",
       "      <td>1.740</td>\n",
       "      <td>0.132</td>\n",
       "      <td>1.498</td>\n",
       "      <td>1.989</td>\n",
       "    </tr>\n",
       "    <tr>\n",
       "      <th>a</th>\n",
       "      <td>1.356</td>\n",
       "      <td>0.024</td>\n",
       "      <td>1.307</td>\n",
       "      <td>1.399</td>\n",
       "    </tr>\n",
       "  </tbody>\n",
       "</table>\n",
       "</div>"
      ],
      "text/plain": [
       "        mean     sd  hpd_3%  hpd_97%\n",
       "bt     0.123  0.035   0.059    0.193\n",
       "sigma  1.740  0.132   1.498    1.989\n",
       "a      1.356  0.024   1.307    1.399"
      ]
     },
     "execution_count": 22,
     "metadata": {},
     "output_type": "execute_result"
    }
   ],
   "source": [
    "with pm.Model() as m6_8:\n",
    "    \n",
    "    sigma = pm.Exponential(\"sigma\", 1)\n",
    "    bt = pm.Normal(\"bt\", 0, .5)\n",
    "    a = pm.Lognormal(\"a\", 0, .2)\n",
    "    \n",
    "    p = a + bt*d[\"treatment\"]\n",
    "    mu = h0*p\n",
    "    \n",
    "    h1 = pm.Normal(\"h1\", mu=mu, sigma=sigma, observed = d[\"h1\"])\n",
    "    \n",
    "    trace_m6_8 = pm.sample()\n",
    "az.summary(trace_m6_8, kind=\"stats\")"
   ]
  },
  {
   "cell_type": "markdown",
   "metadata": {},
   "source": [
    "#### 6.18"
   ]
  },
  {
   "cell_type": "markdown",
   "metadata": {},
   "source": [
    "#### 6.19"
   ]
  },
  {
   "cell_type": "markdown",
   "metadata": {},
   "source": []
  },
  {
   "cell_type": "markdown",
   "metadata": {},
   "source": [
    "#### 6.20"
   ]
  },
  {
   "cell_type": "code",
   "execution_count": 23,
   "metadata": {},
   "outputs": [],
   "source": [
    "np.random.seed(71)\n",
    "N = 1000\n",
    "h0 = stats.norm(10, 2).rvs(N)\n",
    "treatment = np.tile([0, 1], int(N/2))\n",
    "M = stats.bernoulli(p=.5).rvs(N)\n",
    "fungus = stats.binom(p=.5 - treatment*.4 + .4*M, n=1).rvs(N)\n",
    "h1 = h0 + stats.norm( 5 + 3*M).rvs(N)\n",
    "d2 = pd.DataFrame({\"h0\":h0, \"h1\":h1, \"treatment\":treatment, \"fungus\":fungus})"
   ]
  },
  {
   "cell_type": "markdown",
   "metadata": {},
   "source": [
    "#### 6.20 Bonus"
   ]
  },
  {
   "cell_type": "code",
   "execution_count": 26,
   "metadata": {},
   "outputs": [
    {
     "name": "stderr",
     "output_type": "stream",
     "text": [
      "Auto-assigning NUTS sampler...\n",
      "Initializing NUTS using jitter+adapt_diag...\n",
      "Multiprocess sampling (4 chains in 4 jobs)\n",
      "NUTS: [a, bf, bt, sigma]\n",
      "Sampling 4 chains, 0 divergences: 100%|██████████| 4000/4000 [00:01<00:00, 3225.91draws/s]\n",
      "The acceptance probability does not match the target. It is 0.8953680874224352, but should be close to 0.8. Try to increase the number of tuning steps.\n",
      "The acceptance probability does not match the target. It is 0.8794859354607715, but should be close to 0.8. Try to increase the number of tuning steps.\n"
     ]
    },
    {
     "data": {
      "text/html": [
       "<div>\n",
       "<style scoped>\n",
       "    .dataframe tbody tr th:only-of-type {\n",
       "        vertical-align: middle;\n",
       "    }\n",
       "\n",
       "    .dataframe tbody tr th {\n",
       "        vertical-align: top;\n",
       "    }\n",
       "\n",
       "    .dataframe thead th {\n",
       "        text-align: right;\n",
       "    }\n",
       "</style>\n",
       "<table border=\"1\" class=\"dataframe\">\n",
       "  <thead>\n",
       "    <tr style=\"text-align: right;\">\n",
       "      <th></th>\n",
       "      <th>mean</th>\n",
       "      <th>sd</th>\n",
       "      <th>hpd_3%</th>\n",
       "      <th>hpd_97%</th>\n",
       "    </tr>\n",
       "  </thead>\n",
       "  <tbody>\n",
       "    <tr>\n",
       "      <th>bt</th>\n",
       "      <td>0.036</td>\n",
       "      <td>0.014</td>\n",
       "      <td>0.010</td>\n",
       "      <td>0.064</td>\n",
       "    </tr>\n",
       "    <tr>\n",
       "      <th>bf</th>\n",
       "      <td>0.132</td>\n",
       "      <td>0.015</td>\n",
       "      <td>0.105</td>\n",
       "      <td>0.160</td>\n",
       "    </tr>\n",
       "    <tr>\n",
       "      <th>sigma</th>\n",
       "      <td>2.089</td>\n",
       "      <td>0.046</td>\n",
       "      <td>2.006</td>\n",
       "      <td>2.174</td>\n",
       "    </tr>\n",
       "    <tr>\n",
       "      <th>a</th>\n",
       "      <td>1.543</td>\n",
       "      <td>0.014</td>\n",
       "      <td>1.514</td>\n",
       "      <td>1.567</td>\n",
       "    </tr>\n",
       "  </tbody>\n",
       "</table>\n",
       "</div>"
      ],
      "text/plain": [
       "        mean     sd  hpd_3%  hpd_97%\n",
       "bt     0.036  0.014   0.010    0.064\n",
       "bf     0.132  0.015   0.105    0.160\n",
       "sigma  2.089  0.046   2.006    2.174\n",
       "a      1.543  0.014   1.514    1.567"
      ]
     },
     "execution_count": 26,
     "metadata": {},
     "output_type": "execute_result"
    }
   ],
   "source": [
    "with pm.Model() as m6_7_d2:\n",
    "    \n",
    "    sigma = pm.Exponential(\"sigma\", 1)\n",
    "    bt = pm.Normal(\"bt\", 0, .5)\n",
    "    bf = pm.Normal(\"bf\", 0, .5)\n",
    "    a = pm.Lognormal(\"a\", 0, .5)\n",
    "    p = a + bt*d2[\"treatment\"] + bf*d2[\"fungus\"]\n",
    "    mu = h0*p\n",
    "    h1 = pm.Normal(\"h1\", mu=mu, sigma=sigma, observed = d2[\"h1\"])\n",
    "    \n",
    "    trace_m6_7_d2 = pm.sample()\n",
    "az.summary(trace_m6_7_d2, kind=\"stats\")"
   ]
  },
  {
   "cell_type": "code",
   "execution_count": 27,
   "metadata": {},
   "outputs": [
    {
     "name": "stderr",
     "output_type": "stream",
     "text": [
      "Auto-assigning NUTS sampler...\n",
      "Initializing NUTS using jitter+adapt_diag...\n",
      "Multiprocess sampling (4 chains in 4 jobs)\n",
      "NUTS: [a, bt, sigma]\n",
      "Sampling 4 chains, 0 divergences: 100%|██████████| 4000/4000 [00:00<00:00, 4021.96draws/s]\n",
      "The acceptance probability does not match the target. It is 0.8858556556838465, but should be close to 0.8. Try to increase the number of tuning steps.\n",
      "The acceptance probability does not match the target. It is 0.8869488265249583, but should be close to 0.8. Try to increase the number of tuning steps.\n"
     ]
    },
    {
     "data": {
      "text/html": [
       "<div>\n",
       "<style scoped>\n",
       "    .dataframe tbody tr th:only-of-type {\n",
       "        vertical-align: middle;\n",
       "    }\n",
       "\n",
       "    .dataframe tbody tr th {\n",
       "        vertical-align: top;\n",
       "    }\n",
       "\n",
       "    .dataframe thead th {\n",
       "        text-align: right;\n",
       "    }\n",
       "</style>\n",
       "<table border=\"1\" class=\"dataframe\">\n",
       "  <thead>\n",
       "    <tr style=\"text-align: right;\">\n",
       "      <th></th>\n",
       "      <th>mean</th>\n",
       "      <th>sd</th>\n",
       "      <th>hpd_3%</th>\n",
       "      <th>hpd_97%</th>\n",
       "    </tr>\n",
       "  </thead>\n",
       "  <tbody>\n",
       "    <tr>\n",
       "      <th>bt</th>\n",
       "      <td>-0.018</td>\n",
       "      <td>0.014</td>\n",
       "      <td>-0.043</td>\n",
       "      <td>0.007</td>\n",
       "    </tr>\n",
       "    <tr>\n",
       "      <th>sigma</th>\n",
       "      <td>2.176</td>\n",
       "      <td>0.050</td>\n",
       "      <td>2.085</td>\n",
       "      <td>2.267</td>\n",
       "    </tr>\n",
       "    <tr>\n",
       "      <th>a</th>\n",
       "      <td>1.638</td>\n",
       "      <td>0.010</td>\n",
       "      <td>1.618</td>\n",
       "      <td>1.654</td>\n",
       "    </tr>\n",
       "  </tbody>\n",
       "</table>\n",
       "</div>"
      ],
      "text/plain": [
       "        mean     sd  hpd_3%  hpd_97%\n",
       "bt    -0.018  0.014  -0.043    0.007\n",
       "sigma  2.176  0.050   2.085    2.267\n",
       "a      1.638  0.010   1.618    1.654"
      ]
     },
     "execution_count": 27,
     "metadata": {},
     "output_type": "execute_result"
    }
   ],
   "source": [
    "with pm.Model() as m6_8_d2:\n",
    "    \n",
    "    sigma = pm.Exponential(\"sigma\", 1)\n",
    "    bt = pm.Normal(\"bt\", 0, .5)\n",
    "    a = pm.Lognormal(\"a\", 0, .2)\n",
    "    \n",
    "    p = a + bt*d2[\"treatment\"]\n",
    "    mu = h0*p\n",
    "    \n",
    "    h1 = pm.Normal(\"h1\", mu=mu, sigma=sigma, observed = d2[\"h1\"])\n",
    "    \n",
    "    trace_m6_8_d2 = pm.sample()\n",
    "az.summary(trace_m6_8_d2, kind=\"stats\")"
   ]
  },
  {
   "cell_type": "markdown",
   "metadata": {},
   "source": [
    "#### Happiness simulator\n",
    "Recreate sim happiness sim_happiness from rethinking package"
   ]
  },
  {
   "cell_type": "code",
   "execution_count": 156,
   "metadata": {},
   "outputs": [],
   "source": [
    "def sim_happiness(seed=1977, N_years=1000, max_age=65, N_births=20, aom=18):\n",
    "    \"\"\"Simulator for happiness and marriage\"\"\"\n",
    "    np.random.seed(seed)\n",
    "    H = M = A = P = np.array([])\n",
    "\n",
    "    for t in range(1, N_years):\n",
    "        A += 1  # Age existing individuals\n",
    "        A = np.concatenate([A, np.ones(N_births)])  # Newborns\n",
    "        H = np.concatenate([H, np.linspace(-2, 2, N_births)])  # Sim happiness trait - never changes\n",
    "        M = np.concatenate([M, np.zeros(N_births)])\n",
    "\n",
    "        # We'll vectorize marriages this in numpy as it's faster than for loop iteration\n",
    "           \n",
    "        # For each perioson over 17 change to get married\n",
    "        age_mask = (A >= aom)\n",
    "        marriage_mask = (M == 0)\n",
    "        marriage_eligibility = (age_mask & marriage_mask)\n",
    "        \n",
    "        num_possible_marriages = marriage_eligibility.sum()\n",
    "        \n",
    "        p_marriage = scipy.special.expit(H[marriage_eligibility] -4)\n",
    "        \n",
    "        marriages = stats.bernoulli.rvs(p=p_marriage)\n",
    "        M[marriage_eligibility] = marriages\n",
    "                \n",
    "        # Deaths       \n",
    "        deaths = (A > max_age)\n",
    "        if deaths.any():\n",
    "            A = A[~deaths]\n",
    "            H = H[~deaths]\n",
    "            M = M[~deaths]\n",
    "        \n",
    "    df = pd.DataFrame({\"age\": A, \"married\": M, \"happiness\": H})\n",
    "    return df\n"
   ]
  },
  {
   "cell_type": "markdown",
   "metadata": {},
   "source": [
    "#### 6.21"
   ]
  },
  {
   "cell_type": "code",
   "execution_count": 157,
   "metadata": {},
   "outputs": [
    {
     "data": {
      "text/html": [
       "<div>\n",
       "<style scoped>\n",
       "    .dataframe tbody tr th:only-of-type {\n",
       "        vertical-align: middle;\n",
       "    }\n",
       "\n",
       "    .dataframe tbody tr th {\n",
       "        vertical-align: top;\n",
       "    }\n",
       "\n",
       "    .dataframe thead th {\n",
       "        text-align: right;\n",
       "    }\n",
       "</style>\n",
       "<table border=\"1\" class=\"dataframe\">\n",
       "  <thead>\n",
       "    <tr style=\"text-align: right;\">\n",
       "      <th></th>\n",
       "      <th>mean</th>\n",
       "      <th>sd</th>\n",
       "      <th>hpd_3%</th>\n",
       "      <th>hpd_97%</th>\n",
       "    </tr>\n",
       "  </thead>\n",
       "  <tbody>\n",
       "    <tr>\n",
       "      <th>age</th>\n",
       "      <td>33.000</td>\n",
       "      <td>18.769</td>\n",
       "      <td>1.0</td>\n",
       "      <td>62.000</td>\n",
       "    </tr>\n",
       "    <tr>\n",
       "      <th>married</th>\n",
       "      <td>0.281</td>\n",
       "      <td>0.450</td>\n",
       "      <td>0.0</td>\n",
       "      <td>1.000</td>\n",
       "    </tr>\n",
       "    <tr>\n",
       "      <th>happiness</th>\n",
       "      <td>-0.000</td>\n",
       "      <td>1.214</td>\n",
       "      <td>-2.0</td>\n",
       "      <td>1.789</td>\n",
       "    </tr>\n",
       "  </tbody>\n",
       "</table>\n",
       "</div>"
      ],
      "text/plain": [
       "             mean      sd  hpd_3%  hpd_97%\n",
       "age        33.000  18.769     1.0   62.000\n",
       "married     0.281   0.450     0.0    1.000\n",
       "happiness  -0.000   1.214    -2.0    1.789"
      ]
     },
     "execution_count": 157,
     "metadata": {},
     "output_type": "execute_result"
    }
   ],
   "source": [
    "d = sim_happiness(seed=1977)\n",
    "az.summary(d.to_dict(orient=\"list\"), kind=\"stats\")"
   ]
  },
  {
   "cell_type": "markdown",
   "metadata": {},
   "source": [
    "#### Recreate Figure 6.4\n",
    "Also doing it as  test check to enure `sim_happiness` was created correctly"
   ]
  },
  {
   "cell_type": "code",
   "execution_count": 152,
   "metadata": {},
   "outputs": [
    {
     "data": {
      "text/plain": [
       "Text(0, 0.5, 'happiness')"
      ]
     },
     "execution_count": 152,
     "metadata": {},
     "output_type": "execute_result"
    },
    {
     "data": {
      "image/png": "[encoded data removed]",
      "text/plain": [
       "<Figure size 864x432 with 1 Axes>"
      ]
     },
     "metadata": {
      "needs_background": "light"
     },
     "output_type": "display_data"
    }
   ],
   "source": [
    "fig, ax = plt.subplots(figsize = (12,6))\n",
    "\n",
    "married_filter = d[\"married\"].astype(bool)\n",
    "ax.scatter(d[\"age\"][~married_filter], d[\"happiness\"][~married_filter], facecolors='none', edgecolors='black', label=\"unmarried\")\n",
    "ax.scatter(d[\"age\"][married_filter], d[\"happiness\"][married_filter], label=\"married\")\n",
    "ax.legend(loc = \"upper left\")\n",
    "ax.set_xlabel(\"age\")\n",
    "ax.set_ylabel(\"happiness\")"
   ]
  },
  {
   "cell_type": "markdown",
   "metadata": {},
   "source": [
    "#### 6.22"
   ]
  },
  {
   "cell_type": "code",
   "execution_count": 160,
   "metadata": {},
   "outputs": [
    {
     "name": "stderr",
     "output_type": "stream",
     "text": [
      "<ipython-input-160-8ffbee83b2bc>:2: SettingWithCopyWarning: \n",
      "A value is trying to be set on a copy of a slice from a DataFrame.\n",
      "Try using .loc[row_indexer,col_indexer] = value instead\n",
      "\n",
      "See the caveats in the documentation: https://pandas.pydata.org/pandas-docs/stable/user_guide/indexing.html#returning-a-view-versus-a-copy\n",
      "  d2[\"A\"] = d2[\"age\"]-18 /(65-18)\n"
     ]
    }
   ],
   "source": [
    "d2 = d[d[\"age\"]>17]\n",
    "d2[\"A\"] = d2[\"age\"]-18 /(65-18)"
   ]
  },
  {
   "cell_type": "markdown",
   "metadata": {},
   "source": [
    "#### 6.23"
   ]
  },
  {
   "cell_type": "code",
   "execution_count": 174,
   "metadata": {},
   "outputs": [
    {
     "data": {
      "text/plain": [
       "0      64.617021\n",
       "1      64.617021\n",
       "2      64.617021\n",
       "3      64.617021\n",
       "4      64.617021\n",
       "         ...    \n",
       "955    17.617021\n",
       "956    17.617021\n",
       "957    17.617021\n",
       "958    17.617021\n",
       "959    17.617021\n",
       "Name: A, Length: 960, dtype: float64"
      ]
     },
     "execution_count": 174,
     "metadata": {},
     "output_type": "execute_result"
    }
   ],
   "source": [
    "d2[\"A\"]"
   ]
  },
  {
   "cell_type": "code",
   "execution_count": 197,
   "metadata": {},
   "outputs": [
    {
     "name": "stderr",
     "output_type": "stream",
     "text": [
      "Auto-assigning NUTS sampler...\n",
      "Initializing NUTS using jitter+adapt_diag...\n",
      "Multiprocess sampling (4 chains in 4 jobs)\n",
      "NUTS: [mu, a, bA, sigma]\n",
      "Sampling 4 chains, 0 divergences: 100%|██████████| 4000/4000 [00:08<00:00, 490.88draws/s] \n",
      "The acceptance probability does not match the target. It is 0.6903085354368321, but should be close to 0.8. Try to increase the number of tuning steps.\n",
      "The rhat statistic is larger than 1.4 for some parameters. The sampler did not converge.\n",
      "The estimated number of effective samples is smaller than 200 for some parameters.\n"
     ]
    },
    {
     "data": {
      "text/html": [
       "<div>\n",
       "<style scoped>\n",
       "    .dataframe tbody tr th:only-of-type {\n",
       "        vertical-align: middle;\n",
       "    }\n",
       "\n",
       "    .dataframe tbody tr th {\n",
       "        vertical-align: top;\n",
       "    }\n",
       "\n",
       "    .dataframe thead th {\n",
       "        text-align: right;\n",
       "    }\n",
       "</style>\n",
       "<table border=\"1\" class=\"dataframe\">\n",
       "  <thead>\n",
       "    <tr style=\"text-align: right;\">\n",
       "      <th></th>\n",
       "      <th>mean</th>\n",
       "      <th>sd</th>\n",
       "      <th>hpd_3%</th>\n",
       "      <th>hpd_97%</th>\n",
       "    </tr>\n",
       "  </thead>\n",
       "  <tbody>\n",
       "    <tr>\n",
       "      <th>a[0]</th>\n",
       "      <td>0.081</td>\n",
       "      <td>0.102</td>\n",
       "      <td>-0.118</td>\n",
       "      <td>0.262</td>\n",
       "    </tr>\n",
       "    <tr>\n",
       "      <th>a[1]</th>\n",
       "      <td>1.579</td>\n",
       "      <td>0.129</td>\n",
       "      <td>1.339</td>\n",
       "      <td>1.810</td>\n",
       "    </tr>\n",
       "    <tr>\n",
       "      <th>bA</th>\n",
       "      <td>-0.016</td>\n",
       "      <td>0.003</td>\n",
       "      <td>-0.020</td>\n",
       "      <td>-0.011</td>\n",
       "    </tr>\n",
       "    <tr>\n",
       "      <th>sigma</th>\n",
       "      <td>0.209</td>\n",
       "      <td>0.065</td>\n",
       "      <td>0.072</td>\n",
       "      <td>0.314</td>\n",
       "    </tr>\n",
       "  </tbody>\n",
       "</table>\n",
       "</div>"
      ],
      "text/plain": [
       "        mean     sd  hpd_3%  hpd_97%\n",
       "a[0]   0.081  0.102  -0.118    0.262\n",
       "a[1]   1.579  0.129   1.339    1.810\n",
       "bA    -0.016  0.003  -0.020   -0.011\n",
       "sigma  0.209  0.065   0.072    0.314"
      ]
     },
     "execution_count": 197,
     "metadata": {},
     "output_type": "execute_result"
    }
   ],
   "source": [
    "married_index = d2[\"married\"].astype(int).values\n",
    "adjusted_age = d2[\"A\"].values\n",
    "\n",
    "with pm.Model() as m_6_9:\n",
    "    sigma = pm.Exponential(\"sigma\", 1)\n",
    "    \n",
    "    bA = pm.Normal(\"bA\", 0, 2)\n",
    "    a = pm.Normal(\"a\", 0, 1, shape=2)\n",
    "    mu = pm.Normal(\"mu\" ,a[married_index] + bA*adjusted_age, shape=d2.shape[0])\n",
    "    \n",
    "    happiness = pm.Normal(\"happiness\", mu=mu, sigma=sigma, observed=d2[\"happiness\"].values)\n",
    "    m_6_9_trace = pm.sample()\n",
    "az.summary(m_6_9_trace, kind=\"stats\", var_names=[ \"a\", \"bA\",\"sigma\"])"
   ]
  },
  {
   "cell_type": "markdown",
   "metadata": {},
   "source": [
    "#### 6.24"
   ]
  },
  {
   "cell_type": "code",
   "execution_count": 198,
   "metadata": {},
   "outputs": [
    {
     "name": "stderr",
     "output_type": "stream",
     "text": [
      "Auto-assigning NUTS sampler...\n",
      "Initializing NUTS using jitter+adapt_diag...\n",
      "Multiprocess sampling (4 chains in 4 jobs)\n",
      "NUTS: [mu, a, bA, sigma]\n",
      "Sampling 4 chains, 0 divergences: 100%|██████████| 4000/4000 [00:07<00:00, 552.91draws/s] \n",
      "The estimated number of effective samples is smaller than 200 for some parameters.\n"
     ]
    },
    {
     "data": {
      "text/html": [
       "<div>\n",
       "<style scoped>\n",
       "    .dataframe tbody tr th:only-of-type {\n",
       "        vertical-align: middle;\n",
       "    }\n",
       "\n",
       "    .dataframe tbody tr th {\n",
       "        vertical-align: top;\n",
       "    }\n",
       "\n",
       "    .dataframe thead th {\n",
       "        text-align: right;\n",
       "    }\n",
       "</style>\n",
       "<table border=\"1\" class=\"dataframe\">\n",
       "  <thead>\n",
       "    <tr style=\"text-align: right;\">\n",
       "      <th></th>\n",
       "      <th>mean</th>\n",
       "      <th>sd</th>\n",
       "      <th>hpd_3%</th>\n",
       "      <th>hpd_97%</th>\n",
       "    </tr>\n",
       "  </thead>\n",
       "  <tbody>\n",
       "    <tr>\n",
       "      <th>a</th>\n",
       "      <td>-0.006</td>\n",
       "      <td>0.120</td>\n",
       "      <td>-0.219</td>\n",
       "      <td>0.221</td>\n",
       "    </tr>\n",
       "    <tr>\n",
       "      <th>bA</th>\n",
       "      <td>0.000</td>\n",
       "      <td>0.003</td>\n",
       "      <td>-0.005</td>\n",
       "      <td>0.005</td>\n",
       "    </tr>\n",
       "    <tr>\n",
       "      <th>sigma</th>\n",
       "      <td>0.686</td>\n",
       "      <td>0.053</td>\n",
       "      <td>0.588</td>\n",
       "      <td>0.784</td>\n",
       "    </tr>\n",
       "  </tbody>\n",
       "</table>\n",
       "</div>"
      ],
      "text/plain": [
       "        mean     sd  hpd_3%  hpd_97%\n",
       "a     -0.006  0.120  -0.219    0.221\n",
       "bA     0.000  0.003  -0.005    0.005\n",
       "sigma  0.686  0.053   0.588    0.784"
      ]
     },
     "execution_count": 198,
     "metadata": {},
     "output_type": "execute_result"
    }
   ],
   "source": [
    "with pm.Model() as m_6_10:\n",
    "    sigma = pm.Exponential(\"sigma\", 1)\n",
    "    \n",
    "    bA = pm.Normal(\"bA\", 0, 2)\n",
    "    a = pm.Normal(\"a\", 0, 1)\n",
    "    mu = pm.Normal(\"mu\" , a + bA*adjusted_age, shape=d2.shape[0])\n",
    "    \n",
    "    happiness = pm.Normal(\"happiness\", mu=mu, sigma=sigma, observed=d2[\"happiness\"].values)\n",
    "    m_6_10_trace = pm.sample()\n",
    "az.summary(m_6_10_trace, kind=\"stats\", var_names=[ \"a\", \"bA\",\"sigma\"])"
   ]
  },
  {
   "cell_type": "code",
   "execution_count": null,
   "metadata": {},
   "outputs": [],
   "source": []
  }
 ],
 "metadata": {
  "kernelspec": {
   "display_name": "Python 3",
   "language": "python",
   "name": "python3"
  },
  "language_info": {
   "codemirror_mode": {
    "name": "ipython",
    "version": 3
   },
   "file_extension": ".py",
   "mimetype": "text/x-python",
   "name": "python",
   "nbconvert_exporter": "python",
   "pygments_lexer": "ipython3",
   "version": "3.8.1"
  }
 },
 "nbformat": 4,
 "nbformat_minor": 4
}

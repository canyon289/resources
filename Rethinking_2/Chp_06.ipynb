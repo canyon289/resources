{
 "cells": [
  {
   "cell_type": "code",
   "execution_count": 2,
   "metadata": {},
   "outputs": [
    {
     "name": "stderr",
     "output_type": "stream",
     "text": [
      "WARNING (theano.configdefaults): install mkl with `conda install mkl-service`: No module named 'mkl'\n"
     ]
    }
   ],
   "source": [
    "import arviz as az\n",
    "import matplotlib.pyplot as plt\n",
    "import numpy as np\n",
    "import pandas as pd\n",
    "import pymc3 as pm\n",
    "import scipy.stats as stats"
   ]
  },
  {
   "cell_type": "markdown",
   "metadata": {},
   "source": [
    "#### 6.1"
   ]
  },
  {
   "cell_type": "code",
   "execution_count": 3,
   "metadata": {},
   "outputs": [
    {
     "data": {
      "text/plain": [
       "array([[ 1.        , -0.64839295],\n",
       "       [-0.64839295,  1.        ]])"
      ]
     },
     "execution_count": 3,
     "metadata": {},
     "output_type": "execute_result"
    }
   ],
   "source": [
    "# Note even though the seed is the same as in the book the randomness is not\n",
    "np.random.seed(1914)\n",
    "N = 200 # Num grant proposals\n",
    "p = .1 # Proportion to select\n",
    "# Uncorrelated newsworthiness and trustworthiness\n",
    "nw = stats.norm().rvs(N)\n",
    "tw = stats.norm().rvs(N)\n",
    "\n",
    "# Select top combined scores\n",
    "s = tw + nw\n",
    "q = np.quantile(s, 1-p)\n",
    "selected = np.where(s > q)\n",
    "np.corrcoef(tw[selected], nw[selected])"
   ]
  },
  {
   "cell_type": "markdown",
   "metadata": {},
   "source": [
    "#### 6.2"
   ]
  },
  {
   "cell_type": "code",
   "execution_count": 11,
   "metadata": {},
   "outputs": [
    {
     "data": {
      "text/html": [
       "<div>\n",
       "<style scoped>\n",
       "    .dataframe tbody tr th:only-of-type {\n",
       "        vertical-align: middle;\n",
       "    }\n",
       "\n",
       "    .dataframe tbody tr th {\n",
       "        vertical-align: top;\n",
       "    }\n",
       "\n",
       "    .dataframe thead th {\n",
       "        text-align: right;\n",
       "    }\n",
       "</style>\n",
       "<table border=\"1\" class=\"dataframe\">\n",
       "  <thead>\n",
       "    <tr style=\"text-align: right;\">\n",
       "      <th></th>\n",
       "      <th>height</th>\n",
       "      <th>left_leg</th>\n",
       "      <th>leg_right</th>\n",
       "    </tr>\n",
       "  </thead>\n",
       "  <tbody>\n",
       "    <tr>\n",
       "      <th>0</th>\n",
       "      <td>9.694677</td>\n",
       "      <td>7.560597</td>\n",
       "      <td>7.591599</td>\n",
       "    </tr>\n",
       "    <tr>\n",
       "      <th>1</th>\n",
       "      <td>10.122594</td>\n",
       "      <td>7.580403</td>\n",
       "      <td>7.580098</td>\n",
       "    </tr>\n",
       "    <tr>\n",
       "      <th>2</th>\n",
       "      <td>10.190527</td>\n",
       "      <td>4.967617</td>\n",
       "      <td>4.954588</td>\n",
       "    </tr>\n",
       "    <tr>\n",
       "      <th>3</th>\n",
       "      <td>10.669674</td>\n",
       "      <td>6.018542</td>\n",
       "      <td>6.007165</td>\n",
       "    </tr>\n",
       "    <tr>\n",
       "      <th>4</th>\n",
       "      <td>10.944265</td>\n",
       "      <td>5.854657</td>\n",
       "      <td>5.836340</td>\n",
       "    </tr>\n",
       "  </tbody>\n",
       "</table>\n",
       "</div>"
      ],
      "text/plain": [
       "      height  left_leg  leg_right\n",
       "0   9.694677  7.560597   7.591599\n",
       "1  10.122594  7.580403   7.580098\n",
       "2  10.190527  4.967617   4.954588\n",
       "3  10.669674  6.018542   6.007165\n",
       "4  10.944265  5.854657   5.836340"
      ]
     },
     "execution_count": 11,
     "metadata": {},
     "output_type": "execute_result"
    }
   ],
   "source": [
    "# Note even though the seed is the same as in the book the randomness is not\n",
    "N = 100 # number of individuals\n",
    "np.random.seed(1914)\n",
    "\n",
    "height = stats.norm(10, 2).rvs(N) # sim total height of each\n",
    "leg_prop = stats.uniform(.4, .5).rvs(N) # leg as a proportion of height\n",
    "\n",
    "leg_left = leg_prop*height + stats.norm(0,.02).rvs(N) # sim left leg as proportion + error\n",
    "leg_right = leg_prop*height + stats.norm(0,.02).rvs(N) # sim right leg as proportion + error\n",
    "\n",
    "d = pd.DataFrame({\"height\": height, \"left_leg\":leg_left, \"leg_right\":leg_right})\n",
    "d.head()"
   ]
  },
  {
   "cell_type": "markdown",
   "metadata": {},
   "source": [
    "#### 6.3"
   ]
  },
  {
   "cell_type": "code",
   "execution_count": 19,
   "metadata": {},
   "outputs": [
    {
     "name": "stderr",
     "output_type": "stream",
     "text": [
      "Auto-assigning NUTS sampler...\n",
      "Initializing NUTS using jitter+adapt_diag...\n",
      "Multiprocess sampling (4 chains in 4 jobs)\n",
      "NUTS: [a, bl, br, sigma]\n",
      "Sampling 4 chains, 0 divergences: 100%|██████████| 4000/4000 [00:46<00:00, 85.86draws/s] \n",
      "The acceptance probability does not match the target. It is 0.8939346821644198, but should be close to 0.8. Try to increase the number of tuning steps.\n",
      "The acceptance probability does not match the target. It is 0.8829539701496346, but should be close to 0.8. Try to increase the number of tuning steps.\n"
     ]
    },
    {
     "data": {
      "text/html": [
       "<div>\n",
       "<style scoped>\n",
       "    .dataframe tbody tr th:only-of-type {\n",
       "        vertical-align: middle;\n",
       "    }\n",
       "\n",
       "    .dataframe tbody tr th {\n",
       "        vertical-align: top;\n",
       "    }\n",
       "\n",
       "    .dataframe thead th {\n",
       "        text-align: right;\n",
       "    }\n",
       "</style>\n",
       "<table border=\"1\" class=\"dataframe\">\n",
       "  <thead>\n",
       "    <tr style=\"text-align: right;\">\n",
       "      <th></th>\n",
       "      <th>mean</th>\n",
       "      <th>sd</th>\n",
       "      <th>hpd_3%</th>\n",
       "      <th>hpd_97%</th>\n",
       "      <th>mcse_mean</th>\n",
       "      <th>mcse_sd</th>\n",
       "      <th>ess_mean</th>\n",
       "      <th>ess_sd</th>\n",
       "      <th>ess_bulk</th>\n",
       "      <th>ess_tail</th>\n",
       "      <th>r_hat</th>\n",
       "    </tr>\n",
       "  </thead>\n",
       "  <tbody>\n",
       "    <tr>\n",
       "      <th>a</th>\n",
       "      <td>5.382</td>\n",
       "      <td>0.535</td>\n",
       "      <td>4.483</td>\n",
       "      <td>6.442</td>\n",
       "      <td>0.015</td>\n",
       "      <td>0.011</td>\n",
       "      <td>1207.0</td>\n",
       "      <td>1207.0</td>\n",
       "      <td>1213.0</td>\n",
       "      <td>1113.0</td>\n",
       "      <td>1.01</td>\n",
       "    </tr>\n",
       "    <tr>\n",
       "      <th>bl</th>\n",
       "      <td>4.768</td>\n",
       "      <td>4.210</td>\n",
       "      <td>-2.524</td>\n",
       "      <td>13.789</td>\n",
       "      <td>0.146</td>\n",
       "      <td>0.106</td>\n",
       "      <td>837.0</td>\n",
       "      <td>793.0</td>\n",
       "      <td>847.0</td>\n",
       "      <td>821.0</td>\n",
       "      <td>1.01</td>\n",
       "    </tr>\n",
       "    <tr>\n",
       "      <th>br</th>\n",
       "      <td>-4.059</td>\n",
       "      <td>4.210</td>\n",
       "      <td>-12.555</td>\n",
       "      <td>3.756</td>\n",
       "      <td>0.146</td>\n",
       "      <td>0.106</td>\n",
       "      <td>834.0</td>\n",
       "      <td>790.0</td>\n",
       "      <td>844.0</td>\n",
       "      <td>836.0</td>\n",
       "      <td>1.01</td>\n",
       "    </tr>\n",
       "    <tr>\n",
       "      <th>sigma</th>\n",
       "      <td>1.603</td>\n",
       "      <td>0.112</td>\n",
       "      <td>1.410</td>\n",
       "      <td>1.825</td>\n",
       "      <td>0.004</td>\n",
       "      <td>0.003</td>\n",
       "      <td>911.0</td>\n",
       "      <td>896.0</td>\n",
       "      <td>931.0</td>\n",
       "      <td>1012.0</td>\n",
       "      <td>1.01</td>\n",
       "    </tr>\n",
       "  </tbody>\n",
       "</table>\n",
       "</div>"
      ],
      "text/plain": [
       "        mean     sd  hpd_3%  hpd_97%  mcse_mean  mcse_sd  ess_mean  ess_sd  \\\n",
       "a      5.382  0.535   4.483    6.442      0.015    0.011    1207.0  1207.0   \n",
       "bl     4.768  4.210  -2.524   13.789      0.146    0.106     837.0   793.0   \n",
       "br    -4.059  4.210 -12.555    3.756      0.146    0.106     834.0   790.0   \n",
       "sigma  1.603  0.112   1.410    1.825      0.004    0.003     911.0   896.0   \n",
       "\n",
       "       ess_bulk  ess_tail  r_hat  \n",
       "a        1213.0    1113.0   1.01  \n",
       "bl        847.0     821.0   1.01  \n",
       "br        844.0     836.0   1.01  \n",
       "sigma     931.0    1012.0   1.01  "
      ]
     },
     "execution_count": 19,
     "metadata": {},
     "output_type": "execute_result"
    }
   ],
   "source": [
    "with pm.Model() as m_6_1:\n",
    "    sigma = pm.Exponential(\"sigma\", 1)\n",
    "    br = pm.Normal(\"br\", 2, 10)\n",
    "    bl = pm.Normal(\"bl\", 2, 10)\n",
    "    a = pm.Normal(\"a\", 10, 100)\n",
    "    mu = pm.Deterministic(\"mu\", a + bl*leg_left + br*leg_right)\n",
    "    predicted_height = pm.Normal(\"height\", mu, sigma, observed=height)\n",
    "    \n",
    "    trace_6_1 = pm.sample()\n",
    "    \n",
    "az.summary(trace_6_1, var_names=[\"a\", \"bl\", \"br\", \"sigma\"])\n",
    "    "
   ]
  },
  {
   "cell_type": "markdown",
   "metadata": {},
   "source": [
    "#### 6.4"
   ]
  },
  {
   "cell_type": "code",
   "execution_count": 16,
   "metadata": {},
   "outputs": [
    {
     "data": {
      "text/plain": [
       "array([<matplotlib.axes._subplots.AxesSubplot object at 0x7f7af569c610>],\n",
       "      dtype=object)"
      ]
     },
     "execution_count": 16,
     "metadata": {},
     "output_type": "execute_result"
    },
    {
     "data": {
      "image/png": "[encoded data removed]",
      "text/plain": [
       "<Figure size 432x532.8 with 1 Axes>"
      ]
     },
     "metadata": {
      "needs_background": "light"
     },
     "output_type": "display_data"
    }
   ],
   "source": [
    "az.plot_forest(trace_6_1,  var_names=[\"a\", \"bl\", \"br\", \"sigma\"], combined=True);"
   ]
  },
  {
   "cell_type": "markdown",
   "metadata": {},
   "source": [
    "#### 6.5"
   ]
  },
  {
   "cell_type": "code",
   "execution_count": 22,
   "metadata": {},
   "outputs": [
    {
     "name": "stderr",
     "output_type": "stream",
     "text": [
      "100%|██████████| 2000/2000 [00:00<00:00, 34349.84it/s]\n"
     ]
    },
    {
     "data": {
      "text/plain": [
       "array([<matplotlib.axes._subplots.AxesSubplot object at 0x7f7ae5db25b0>,\n",
       "       <matplotlib.axes._subplots.AxesSubplot object at 0x7f7ae5ce7220>,\n",
       "       <matplotlib.axes._subplots.AxesSubplot object at 0x7f7ae5c2cac0>],\n",
       "      dtype=object)"
      ]
     },
     "execution_count": 22,
     "metadata": {},
     "output_type": "execute_result"
    },
    {
     "data": {
      "image/png": "[encoded data removed]",
      "text/plain": [
       "<Figure size 432x288 with 3 Axes>"
      ]
     },
     "metadata": {
      "needs_background": "light"
     },
     "output_type": "display_data"
    }
   ],
   "source": [
    "with m_6_1:\n",
    "    posterior_predictive_6_1 = pm.sample_posterior_predictive(trace_6_1, var_names=[\"bl\", \"br\"])\n",
    "\n",
    "    # We'll use arviz density plot here for convenience\n",
    "az.plot_joint({\"br\":posterior_predictive_6_1[\"br\"], \"bl\":posterior_predictive_6_1[\"bl\"]})"
   ]
  },
  {
   "cell_type": "markdown",
   "metadata": {},
   "source": [
    "#### 6.6\n",
    "Median doesn't seen to match book"
   ]
  },
  {
   "cell_type": "code",
   "execution_count": 26,
   "metadata": {},
   "outputs": [
    {
     "data": {
      "text/plain": [
       "Text(0.5, 0, 'sum of bl and br')"
      ]
     },
     "execution_count": 26,
     "metadata": {},
     "output_type": "execute_result"
    },
    {
     "data": {
      "image/png": "[encoded data removed]",
      "text/plain": [
       "<Figure size 432x288 with 1 Axes>"
      ]
     },
     "metadata": {
      "needs_background": "light"
     },
     "output_type": "display_data"
    }
   ],
   "source": [
    "sum_blbr = posterior_predictive_6_1[\"br\"] + posterior_predictive_6_1[\"bl\"]\n",
    "ax = az.plot_density(sum_blbr)\n",
    "ax[0].set_xlabel(\"sum of bl and br\")"
   ]
  }
 ],
 "metadata": {
  "kernelspec": {
   "display_name": "Python 3",
   "language": "python",
   "name": "python3"
  },
  "language_info": {
   "codemirror_mode": {
    "name": "ipython",
    "version": 3
   },
   "file_extension": ".py",
   "mimetype": "text/x-python",
   "name": "python",
   "nbconvert_exporter": "python",
   "pygments_lexer": "ipython3",
   "version": "3.8.1"
  }
 },
 "nbformat": 4,
 "nbformat_minor": 4
}

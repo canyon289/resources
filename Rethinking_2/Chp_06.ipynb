{
 "cells": [
  {
   "cell_type": "code",
   "execution_count": 3,
   "metadata": {},
   "outputs": [],
   "source": [
    "import arviz as az\n",
    "import matplotlib.pyplot as plt\n",
    "import numpy as np\n",
    "import pandas as pd\n",
    "import pymc3 as pm\n",
    "import scipy.stats as stats"
   ]
  },
  {
   "cell_type": "markdown",
   "metadata": {},
   "source": [
    "#### 6.1"
   ]
  },
  {
   "cell_type": "code",
   "execution_count": 21,
   "metadata": {},
   "outputs": [
    {
     "data": {
      "text/plain": [
       "array([[ 1.        , -0.64839295],\n",
       "       [-0.64839295,  1.        ]])"
      ]
     },
     "execution_count": 21,
     "metadata": {},
     "output_type": "execute_result"
    }
   ],
   "source": [
    "# Note even though the seed is the same as in the book the randomness is not\n",
    "np.random.seed(1914)\n",
    "N = 200 # Num grant proposals\n",
    "p = .1 # Proportion to select\n",
    "# Uncorrelated newsworthiness and trustworthiness\n",
    "nw = stats.norm().rvs(N)\n",
    "tw = stats.norm().rvs(N)\n",
    "\n",
    "# Select top combined scores\n",
    "s = tw + nw\n",
    "q = np.quantile(s, 1-p)\n",
    "selected = np.where(s > q)\n",
    "np.corrcoef(tw[selected], nw[selected])"
   ]
  }
 ],
 "metadata": {
  "kernelspec": {
   "display_name": "Python 3",
   "language": "python",
   "name": "python3"
  },
  "language_info": {
   "codemirror_mode": {
    "name": "ipython",
    "version": 3
   },
   "file_extension": ".py",
   "mimetype": "text/x-python",
   "name": "python",
   "nbconvert_exporter": "python",
   "pygments_lexer": "ipython3",
   "version": "3.7.4"
  }
 },
 "nbformat": 4,
 "nbformat_minor": 2
}

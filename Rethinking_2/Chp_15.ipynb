{
 "cells": [
  {
   "cell_type": "markdown",
   "metadata": {},
   "source": [
    "# Chapter 15"
   ]
  },
  {
   "cell_type": "code",
   "execution_count": 2,
   "metadata": {},
   "outputs": [],
   "source": [
    "import arviz as az\n",
    "import matplotlib.pyplot as plt\n",
    "import numpy as np\n",
    "import pandas as pd\n",
    "import pymc3 as pm\n",
    "import scipy as sp\n",
    "import theano.tensor as tt\n",
    "import warnings\n",
    "\n",
    "from scipy.special import expit as logistic\n",
    "\n",
    "%config InlineBackend.figure_format = 'retina'\n",
    "warnings.simplefilter(action=\"ignore\", category=FutureWarning)\n",
    "RANDOM_SEED = 8927\n",
    "np.random.seed(286)"
   ]
  },
  {
   "cell_type": "code",
   "execution_count": 27,
   "metadata": {},
   "outputs": [],
   "source": [
    "def standardize(series):\n",
    "    \"\"\"Standardize a pandas series\"\"\"\n",
    "    std_series = (series - series.mean()) / series.std()\n",
    "    return std_series"
   ]
  },
  {
   "cell_type": "markdown",
   "metadata": {},
   "source": [
    "#### 15.1"
   ]
  },
  {
   "cell_type": "code",
   "execution_count": 3,
   "metadata": {},
   "outputs": [
    {
     "data": {
      "text/plain": [
       "0.6630065881413456"
      ]
     },
     "execution_count": 3,
     "metadata": {},
     "output_type": "execute_result"
    }
   ],
   "source": [
    "pancake = np.array([[1,1],[1,0],[0,0]])\n",
    "# simulate a pancake and return randomly ordered sides\n",
    "pancakes = np.asarray([np.random.permutation(pancake[np.random.choice(range(3))]) for i in range(10000)])\n",
    "up = pancakes[:, 0]\n",
    "down = pancakes[:, 1]\n",
    "\n",
    "# compute proportion 1/1 (BB) out of all 1/1 and 1/0\n",
    "num_11_10 = np.sum(up==1)\n",
    "num_11 = np.sum((up==1) & (down==1))\n",
    "num_11/num_11_10"
   ]
  },
  {
   "cell_type": "markdown",
   "metadata": {},
   "source": [
    "#### 15.2"
   ]
  },
  {
   "cell_type": "code",
   "execution_count": 5,
   "metadata": {},
   "outputs": [
    {
     "data": {
      "text/html": [
       "<div>\n",
       "<style scoped>\n",
       "    .dataframe tbody tr th:only-of-type {\n",
       "        vertical-align: middle;\n",
       "    }\n",
       "\n",
       "    .dataframe tbody tr th {\n",
       "        vertical-align: top;\n",
       "    }\n",
       "\n",
       "    .dataframe thead th {\n",
       "        text-align: right;\n",
       "    }\n",
       "</style>\n",
       "<table border=\"1\" class=\"dataframe\">\n",
       "  <thead>\n",
       "    <tr style=\"text-align: right;\">\n",
       "      <th></th>\n",
       "      <th>Location</th>\n",
       "      <th>Loc</th>\n",
       "      <th>Population</th>\n",
       "      <th>MedianAgeMarriage</th>\n",
       "      <th>Marriage</th>\n",
       "      <th>Marriage SE</th>\n",
       "      <th>Divorce</th>\n",
       "      <th>Divorce SE</th>\n",
       "      <th>WaffleHouses</th>\n",
       "      <th>South</th>\n",
       "      <th>Slaves1860</th>\n",
       "      <th>Population1860</th>\n",
       "      <th>PropSlaves1860</th>\n",
       "    </tr>\n",
       "  </thead>\n",
       "  <tbody>\n",
       "    <tr>\n",
       "      <th>0</th>\n",
       "      <td>Alabama</td>\n",
       "      <td>AL</td>\n",
       "      <td>4.78</td>\n",
       "      <td>25.3</td>\n",
       "      <td>20.2</td>\n",
       "      <td>1.27</td>\n",
       "      <td>12.7</td>\n",
       "      <td>0.79</td>\n",
       "      <td>128</td>\n",
       "      <td>1</td>\n",
       "      <td>435080</td>\n",
       "      <td>964201</td>\n",
       "      <td>0.45</td>\n",
       "    </tr>\n",
       "    <tr>\n",
       "      <th>1</th>\n",
       "      <td>Alaska</td>\n",
       "      <td>AK</td>\n",
       "      <td>0.71</td>\n",
       "      <td>25.2</td>\n",
       "      <td>26.0</td>\n",
       "      <td>2.93</td>\n",
       "      <td>12.5</td>\n",
       "      <td>2.05</td>\n",
       "      <td>0</td>\n",
       "      <td>0</td>\n",
       "      <td>0</td>\n",
       "      <td>0</td>\n",
       "      <td>0.00</td>\n",
       "    </tr>\n",
       "    <tr>\n",
       "      <th>2</th>\n",
       "      <td>Arizona</td>\n",
       "      <td>AZ</td>\n",
       "      <td>6.33</td>\n",
       "      <td>25.8</td>\n",
       "      <td>20.3</td>\n",
       "      <td>0.98</td>\n",
       "      <td>10.8</td>\n",
       "      <td>0.74</td>\n",
       "      <td>18</td>\n",
       "      <td>0</td>\n",
       "      <td>0</td>\n",
       "      <td>0</td>\n",
       "      <td>0.00</td>\n",
       "    </tr>\n",
       "    <tr>\n",
       "      <th>3</th>\n",
       "      <td>Arkansas</td>\n",
       "      <td>AR</td>\n",
       "      <td>2.92</td>\n",
       "      <td>24.3</td>\n",
       "      <td>26.4</td>\n",
       "      <td>1.70</td>\n",
       "      <td>13.5</td>\n",
       "      <td>1.22</td>\n",
       "      <td>41</td>\n",
       "      <td>1</td>\n",
       "      <td>111115</td>\n",
       "      <td>435450</td>\n",
       "      <td>0.26</td>\n",
       "    </tr>\n",
       "    <tr>\n",
       "      <th>4</th>\n",
       "      <td>California</td>\n",
       "      <td>CA</td>\n",
       "      <td>37.25</td>\n",
       "      <td>26.8</td>\n",
       "      <td>19.1</td>\n",
       "      <td>0.39</td>\n",
       "      <td>8.0</td>\n",
       "      <td>0.24</td>\n",
       "      <td>0</td>\n",
       "      <td>0</td>\n",
       "      <td>0</td>\n",
       "      <td>379994</td>\n",
       "      <td>0.00</td>\n",
       "    </tr>\n",
       "  </tbody>\n",
       "</table>\n",
       "</div>"
      ],
      "text/plain": [
       "     Location Loc  Population  MedianAgeMarriage  Marriage  Marriage SE  \\\n",
       "0     Alabama  AL        4.78               25.3      20.2         1.27   \n",
       "1      Alaska  AK        0.71               25.2      26.0         2.93   \n",
       "2     Arizona  AZ        6.33               25.8      20.3         0.98   \n",
       "3    Arkansas  AR        2.92               24.3      26.4         1.70   \n",
       "4  California  CA       37.25               26.8      19.1         0.39   \n",
       "\n",
       "   Divorce  Divorce SE  WaffleHouses  South  Slaves1860  Population1860  \\\n",
       "0     12.7        0.79           128      1      435080          964201   \n",
       "1     12.5        2.05             0      0           0               0   \n",
       "2     10.8        0.74            18      0           0               0   \n",
       "3     13.5        1.22            41      1      111115          435450   \n",
       "4      8.0        0.24             0      0           0          379994   \n",
       "\n",
       "   PropSlaves1860  \n",
       "0            0.45  \n",
       "1            0.00  \n",
       "2            0.00  \n",
       "3            0.26  \n",
       "4            0.00  "
      ]
     },
     "execution_count": 5,
     "metadata": {},
     "output_type": "execute_result"
    }
   ],
   "source": [
    "d.head()"
   ]
  },
  {
   "cell_type": "code",
   "execution_count": 26,
   "metadata": {},
   "outputs": [
    {
     "data": {
      "text/plain": [
       "Text(0, 0.5, 'Divorce rate')"
      ]
     },
     "execution_count": 26,
     "metadata": {},
     "output_type": "execute_result"
    },
    {
     "data": {
      "image/png": "[encoded data removed]",
      "text/plain": [
       "<Figure size 432x288 with 1 Axes>"
      ]
     },
     "metadata": {
      "image/png": {
       "height": 261,
       "width": 387
      },
      "needs_background": "light"
     },
     "output_type": "display_data"
    }
   ],
   "source": [
    "d = pd.read_csv('Data/WaffleDivorce.csv', ';')\n",
    "\n",
    "fig, ax = plt.subplots()\n",
    "ax.scatter(d[\"MedianAgeMarriage\"].values, d[\"Divorce\"].values)\n",
    "ax.errorbar(d[\"MedianAgeMarriage\"].values ,d[\"Divorce\"].values, yerr=d[\"Divorce SE\"].values, ls='none')\n",
    "\n",
    "ax.set_xlabel(\"Median age marriage\")\n",
    "ax.set_ylabel(\"Divorce rate\")"
   ]
  },
  {
   "cell_type": "markdown",
   "metadata": {},
   "source": [
    "#### 15.3"
   ]
  },
  {
   "cell_type": "code",
   "execution_count": 36,
   "metadata": {},
   "outputs": [
    {
     "name": "stderr",
     "output_type": "stream",
     "text": [
      "Auto-assigning NUTS sampler...\n",
      "Initializing NUTS using jitter+adapt_diag...\n",
      "Multiprocess sampling (4 chains in 4 jobs)\n",
      "NUTS: [D_true, a, bA, bM, sigma]\n",
      "Sampling 4 chains, 0 divergences: 100%|██████████| 4000/4000 [00:01<00:00, 2107.21draws/s]\n"
     ]
    }
   ],
   "source": [
    "# Standardize regressors and target\n",
    "D_obs = standardize(d[\"Divorce\"])\n",
    "D_sd = d[\"Divorce SE\"] / d[\"Divorce\"].std()\n",
    "M = standardize(d[\"Marriage\"])\n",
    "A = standardize(d[\"MedianAgeMarriage\"])\n",
    "N = len(d)\n",
    "\n",
    "with pm.Model() as m_15_1:\n",
    "    sigma = pm.Exponential(\"sigma\", 1)\n",
    "    bM = pm.Normal(\"bM\", 0, .5)\n",
    "    bA = pm.Normal(\"bA\", 0, .5)\n",
    "    a = pm.Normal(\"a\", 0, .2)\n",
    "    mu = pm.Deterministic(\"mu\", a + bA*A + bM*M)\n",
    "    \n",
    "    D_true = pm.Normal(\"D_true\", mu, sigma, shape=N)\n",
    "    D_obs = pm.Normal(\"D_obs\", D_true, D_sd, observed=D_obs)\n",
    "    \n",
    "    trace_m_15_1 = pm.sample()\n"
   ]
  },
  {
   "cell_type": "markdown",
   "metadata": {},
   "source": [
    "#### 15.4"
   ]
  },
  {
   "cell_type": "code",
   "execution_count": 37,
   "metadata": {},
   "outputs": [
    {
     "data": {
      "text/html": [
       "<div>\n",
       "<style scoped>\n",
       "    .dataframe tbody tr th:only-of-type {\n",
       "        vertical-align: middle;\n",
       "    }\n",
       "\n",
       "    .dataframe tbody tr th {\n",
       "        vertical-align: top;\n",
       "    }\n",
       "\n",
       "    .dataframe thead th {\n",
       "        text-align: right;\n",
       "    }\n",
       "</style>\n",
       "<table border=\"1\" class=\"dataframe\">\n",
       "  <thead>\n",
       "    <tr style=\"text-align: right;\">\n",
       "      <th></th>\n",
       "      <th>mean</th>\n",
       "      <th>sd</th>\n",
       "      <th>hpd_3%</th>\n",
       "      <th>hpd_97%</th>\n",
       "      <th>mcse_mean</th>\n",
       "      <th>mcse_sd</th>\n",
       "      <th>ess_mean</th>\n",
       "      <th>ess_sd</th>\n",
       "      <th>ess_bulk</th>\n",
       "      <th>ess_tail</th>\n",
       "      <th>r_hat</th>\n",
       "    </tr>\n",
       "  </thead>\n",
       "  <tbody>\n",
       "    <tr>\n",
       "      <th>bM</th>\n",
       "      <td>0.051</td>\n",
       "      <td>0.167</td>\n",
       "      <td>-0.262</td>\n",
       "      <td>0.360</td>\n",
       "      <td>0.004</td>\n",
       "      <td>0.003</td>\n",
       "      <td>1401.0</td>\n",
       "      <td>1184.0</td>\n",
       "      <td>1397.0</td>\n",
       "      <td>1494.0</td>\n",
       "      <td>1.0</td>\n",
       "    </tr>\n",
       "    <tr>\n",
       "      <th>bA</th>\n",
       "      <td>-0.614</td>\n",
       "      <td>0.159</td>\n",
       "      <td>-0.893</td>\n",
       "      <td>-0.305</td>\n",
       "      <td>0.004</td>\n",
       "      <td>0.003</td>\n",
       "      <td>1326.0</td>\n",
       "      <td>1285.0</td>\n",
       "      <td>1322.0</td>\n",
       "      <td>1299.0</td>\n",
       "      <td>1.0</td>\n",
       "    </tr>\n",
       "    <tr>\n",
       "      <th>a</th>\n",
       "      <td>-0.055</td>\n",
       "      <td>0.095</td>\n",
       "      <td>-0.237</td>\n",
       "      <td>0.117</td>\n",
       "      <td>0.002</td>\n",
       "      <td>0.002</td>\n",
       "      <td>2017.0</td>\n",
       "      <td>1646.0</td>\n",
       "      <td>2025.0</td>\n",
       "      <td>1746.0</td>\n",
       "      <td>1.0</td>\n",
       "    </tr>\n",
       "    <tr>\n",
       "      <th>D_true[0]</th>\n",
       "      <td>1.163</td>\n",
       "      <td>0.361</td>\n",
       "      <td>0.438</td>\n",
       "      <td>1.758</td>\n",
       "      <td>0.008</td>\n",
       "      <td>0.006</td>\n",
       "      <td>2239.0</td>\n",
       "      <td>2032.0</td>\n",
       "      <td>2248.0</td>\n",
       "      <td>1683.0</td>\n",
       "      <td>1.0</td>\n",
       "    </tr>\n",
       "    <tr>\n",
       "      <th>D_true[1]</th>\n",
       "      <td>0.684</td>\n",
       "      <td>0.550</td>\n",
       "      <td>-0.340</td>\n",
       "      <td>1.769</td>\n",
       "      <td>0.011</td>\n",
       "      <td>0.009</td>\n",
       "      <td>2743.0</td>\n",
       "      <td>1760.0</td>\n",
       "      <td>2716.0</td>\n",
       "      <td>1696.0</td>\n",
       "      <td>1.0</td>\n",
       "    </tr>\n",
       "    <tr>\n",
       "      <th>...</th>\n",
       "      <td>...</td>\n",
       "      <td>...</td>\n",
       "      <td>...</td>\n",
       "      <td>...</td>\n",
       "      <td>...</td>\n",
       "      <td>...</td>\n",
       "      <td>...</td>\n",
       "      <td>...</td>\n",
       "      <td>...</td>\n",
       "      <td>...</td>\n",
       "      <td>...</td>\n",
       "    </tr>\n",
       "    <tr>\n",
       "      <th>mu[45]</th>\n",
       "      <td>-0.221</td>\n",
       "      <td>0.113</td>\n",
       "      <td>-0.441</td>\n",
       "      <td>-0.030</td>\n",
       "      <td>0.003</td>\n",
       "      <td>0.002</td>\n",
       "      <td>1598.0</td>\n",
       "      <td>1559.0</td>\n",
       "      <td>1590.0</td>\n",
       "      <td>1711.0</td>\n",
       "      <td>1.0</td>\n",
       "    </tr>\n",
       "    <tr>\n",
       "      <th>mu[46]</th>\n",
       "      <td>0.038</td>\n",
       "      <td>0.109</td>\n",
       "      <td>-0.170</td>\n",
       "      <td>0.237</td>\n",
       "      <td>0.003</td>\n",
       "      <td>0.002</td>\n",
       "      <td>1867.0</td>\n",
       "      <td>1392.0</td>\n",
       "      <td>1868.0</td>\n",
       "      <td>1582.0</td>\n",
       "      <td>1.0</td>\n",
       "    </tr>\n",
       "    <tr>\n",
       "      <th>mu[47]</th>\n",
       "      <td>0.493</td>\n",
       "      <td>0.140</td>\n",
       "      <td>0.242</td>\n",
       "      <td>0.767</td>\n",
       "      <td>0.003</td>\n",
       "      <td>0.002</td>\n",
       "      <td>1933.0</td>\n",
       "      <td>1912.0</td>\n",
       "      <td>1931.0</td>\n",
       "      <td>1533.0</td>\n",
       "      <td>1.0</td>\n",
       "    </tr>\n",
       "    <tr>\n",
       "      <th>mu[48]</th>\n",
       "      <td>-0.216</td>\n",
       "      <td>0.138</td>\n",
       "      <td>-0.470</td>\n",
       "      <td>0.040</td>\n",
       "      <td>0.003</td>\n",
       "      <td>0.002</td>\n",
       "      <td>1831.0</td>\n",
       "      <td>1686.0</td>\n",
       "      <td>1834.0</td>\n",
       "      <td>1644.0</td>\n",
       "      <td>1.0</td>\n",
       "    </tr>\n",
       "    <tr>\n",
       "      <th>mu[49]</th>\n",
       "      <td>1.001</td>\n",
       "      <td>0.372</td>\n",
       "      <td>0.291</td>\n",
       "      <td>1.675</td>\n",
       "      <td>0.009</td>\n",
       "      <td>0.007</td>\n",
       "      <td>1610.0</td>\n",
       "      <td>1548.0</td>\n",
       "      <td>1609.0</td>\n",
       "      <td>1327.0</td>\n",
       "      <td>1.0</td>\n",
       "    </tr>\n",
       "  </tbody>\n",
       "</table>\n",
       "<p>104 rows × 11 columns</p>\n",
       "</div>"
      ],
      "text/plain": [
       "            mean     sd  hpd_3%  hpd_97%  mcse_mean  mcse_sd  ess_mean  \\\n",
       "bM         0.051  0.167  -0.262    0.360      0.004    0.003    1401.0   \n",
       "bA        -0.614  0.159  -0.893   -0.305      0.004    0.003    1326.0   \n",
       "a         -0.055  0.095  -0.237    0.117      0.002    0.002    2017.0   \n",
       "D_true[0]  1.163  0.361   0.438    1.758      0.008    0.006    2239.0   \n",
       "D_true[1]  0.684  0.550  -0.340    1.769      0.011    0.009    2743.0   \n",
       "...          ...    ...     ...      ...        ...      ...       ...   \n",
       "mu[45]    -0.221  0.113  -0.441   -0.030      0.003    0.002    1598.0   \n",
       "mu[46]     0.038  0.109  -0.170    0.237      0.003    0.002    1867.0   \n",
       "mu[47]     0.493  0.140   0.242    0.767      0.003    0.002    1933.0   \n",
       "mu[48]    -0.216  0.138  -0.470    0.040      0.003    0.002    1831.0   \n",
       "mu[49]     1.001  0.372   0.291    1.675      0.009    0.007    1610.0   \n",
       "\n",
       "           ess_sd  ess_bulk  ess_tail  r_hat  \n",
       "bM         1184.0    1397.0    1494.0    1.0  \n",
       "bA         1285.0    1322.0    1299.0    1.0  \n",
       "a          1646.0    2025.0    1746.0    1.0  \n",
       "D_true[0]  2032.0    2248.0    1683.0    1.0  \n",
       "D_true[1]  1760.0    2716.0    1696.0    1.0  \n",
       "...           ...       ...       ...    ...  \n",
       "mu[45]     1559.0    1590.0    1711.0    1.0  \n",
       "mu[46]     1392.0    1868.0    1582.0    1.0  \n",
       "mu[47]     1912.0    1931.0    1533.0    1.0  \n",
       "mu[48]     1686.0    1834.0    1644.0    1.0  \n",
       "mu[49]     1548.0    1609.0    1327.0    1.0  \n",
       "\n",
       "[104 rows x 11 columns]"
      ]
     },
     "execution_count": 37,
     "metadata": {},
     "output_type": "execute_result"
    }
   ],
   "source": [
    "az.summary(trace_m_15_1)"
   ]
  },
  {
   "cell_type": "markdown",
   "metadata": {},
   "source": [
    "#### 15.5"
   ]
  },
  {
   "cell_type": "code",
   "execution_count": 41,
   "metadata": {},
   "outputs": [
    {
     "name": "stderr",
     "output_type": "stream",
     "text": [
      "Auto-assigning NUTS sampler...\n",
      "Initializing NUTS using jitter+adapt_diag...\n",
      "Multiprocess sampling (4 chains in 4 jobs)\n",
      "NUTS: [D_true, M_true, a, bA, bM, sigma]\n",
      "Sampling 4 chains, 0 divergences: 100%|██████████| 4000/4000 [00:02<00:00, 1828.75draws/s]\n"
     ]
    }
   ],
   "source": [
    "# Standardize regressors and target\n",
    "D_obs = standardize(d[\"Divorce\"])\n",
    "D_sd = d[\"Divorce SE\"] / d[\"Divorce\"].std()\n",
    "M_obs = standardize(d[\"Marriage\"])\n",
    "M_sd = d[\"Marriage SE\"] / d[\"Marriage\"].std()\n",
    "\n",
    "A = standardize(d[\"MedianAgeMarriage\"])\n",
    "N = len(d)\n",
    "\n",
    "with pm.Model() as m_15_2:\n",
    "    sigma = pm.Exponential(\"sigma\", 1)\n",
    "    bM = pm.Normal(\"bM\", 0, .5)\n",
    "    bA = pm.Normal(\"bA\", 0, .5)\n",
    "    a = pm.Normal(\"a\", 0, .2)\n",
    "        \n",
    "    M_true = pm.Normal(\"M_true\", 0, 1, shape=N)\n",
    "\n",
    "    mu = pm.Deterministic(\"mu\", a + bA*A + bM*M_true)\n",
    "    \n",
    "    D_true = pm.Normal(\"D_true\", mu, sigma, shape=N)\n",
    "    D_obs = pm.Normal(\"D_obs\", D_true, D_sd, observed=D_obs)\n",
    "    M_obs = pm.Normal(\"M_obs\", M_true, M_sd, observed=M_obs)\n",
    "\n",
    "    \n",
    "    trace_m_15_2 = pm.sample()"
   ]
  },
  {
   "cell_type": "markdown",
   "metadata": {},
   "source": [
    "#### 15.6"
   ]
  },
  {
   "cell_type": "code",
   "execution_count": 57,
   "metadata": {},
   "outputs": [
    {
     "data": {
      "image/png": "[encoded data removed]",
      "text/plain": [
       "<Figure size 432x288 with 1 Axes>"
      ]
     },
     "metadata": {
      "image/png": {
       "height": 248,
       "width": 372
      },
      "needs_background": "light"
     },
     "output_type": "display_data"
    }
   ],
   "source": [
    "# Copying these two lines as they got overwritten by model\n",
    "M_obs = standardize(d[\"Marriage\"])\n",
    "D_obs = standardize(d[\"Divorce\"])\n",
    "\n",
    "\n",
    "D_true = trace_m_15_2[\"D_true\"].mean(axis=0)\n",
    "M_true = trace_m_15_2[\"M_true\"].mean(axis=0)\n",
    "\n",
    "fig, ax = plt.subplots()\n",
    "ax.scatter(M_obs, D_obs)\n",
    "ax.scatter(M_true, D_true, edgecolor=\"k\", color=(0, 0, 0, 0))\n",
    "\n",
    "for x1, y1, x2, y2 in zip(M_obs, D_obs, M_true, D_true):\n",
    "    ax.plot((x1, x2), (y1, y2), c=\"black\")\n"
   ]
  },
  {
   "cell_type": "code",
   "execution_count": null,
   "metadata": {},
   "outputs": [],
   "source": []
  }
 ],
 "metadata": {
  "kernelspec": {
   "display_name": "Python 3",
   "language": "python",
   "name": "python3"
  },
  "language_info": {
   "codemirror_mode": {
    "name": "ipython",
    "version": 3
   },
   "file_extension": ".py",
   "mimetype": "text/x-python",
   "name": "python",
   "nbconvert_exporter": "python",
   "pygments_lexer": "ipython3",
   "version": "3.7.4"
  }
 },
 "nbformat": 4,
 "nbformat_minor": 4
}
